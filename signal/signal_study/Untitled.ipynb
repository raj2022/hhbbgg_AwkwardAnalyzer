{
 "cells": [
  {
   "cell_type": "code",
   "execution_count": 1,
   "id": "12ab746e",
   "metadata": {},
   "outputs": [],
   "source": [
    "import uproot\n",
    "import numpy as np\n",
    "import matplotlib.pyplot as plt\n",
    "import mplhep as hep\n",
    "from cycler import cycler\n",
    "import pandas as pd\n",
    "\n",
    "\n",
    "# Background files and paths\n",
    "background_files = [\n",
    "    (\"../../outputfiles/hhbbgg_analyzer_v2-trees.root\", \"/GGJets/preselection\"),\n",
    "    (\"../../outputfiles/hhbbgg_analyzer_v2-trees.root\", \"/GJetPt20to40/preselection\"),\n",
    "    (\"../../outputfiles/hhbbgg_analyzer_v2-trees.root\", \"/GJetPt40/preselection\"),\n",
    "]\n",
    "\n",
    "# Signal files and paths\n",
    "signal_files = [\n",
    "    (\"../../outputfiles/hhbbgg_analyzer_NMSSMv2-trees.root\", \"/NMSSM_X300_Y60/preselection\"),\n",
    "    (\"../../outputfiles/hhbbgg_analyzer_NMSSMv2-trees.root\", \"/NMSSM_X650_Y90/preselection\"),\n",
    "    (\"../../outputfiles/hhbbgg_analyzer_NMSSMv2-trees.root\", \"/NMSSM_X1200_Y200/preselection\"),\n",
    "]\n",
    "\n",
    "data_files = [\n",
    "    (\"../../outputfiles/hhbbgg_analyzer_v2-trees.root\", \"/Data_EraE/preselection\"),\n",
    "    (\"../../outputfiles/hhbbgg_analyzer_v2-trees.root\", \"/Data_EraF/preselection\"),\n",
    "    (\"../../outputfiles/hhbbgg_analyzer_v2-trees.root\", \"/Data_EraG/preselection\"),\n",
    "    \n",
    "]\n",
    "# Columns to be loaded\n",
    "keys = ['bbgg_mass', 'dibjet_mass', 'diphoton_mass']\n",
    "\n",
    "# Load DataFrames for background and signal\n",
    "dfs_background = {}\n",
    "dfs_signal = {}\n",
    "\n",
    "for file, key in background_files:\n",
    "    try:\n",
    "        with uproot.open(file) as f:\n",
    "            dfs_background[key] = f[key].arrays(keys, library=\"pd\")\n",
    "    except Exception as e:\n",
    "        print(f\"Error loading {file} with key {key}: {e}\")\n",
    "\n",
    "for file, key in signal_files:\n",
    "    try:\n",
    "        with uproot.open(file) as f:\n",
    "            dfs_signal[key] = f[key].arrays(keys, library=\"pd\")\n",
    "    except Exception as e:\n",
    "        print(f\"Error loading {file} with key {key}: {e}\")\n",
    "        \n",
    "# Load DataFrames for data\n",
    "dfs_data = {}\n",
    "\n",
    "for file, key in data_files:\n",
    "    try:\n",
    "        with uproot.open(file) as f:\n",
    "            dfs_data[key] = f[key].arrays(keys, library=\"pd\")\n",
    "    except Exception as e:\n",
    "        print(f\"Error loading {file} with key {key}: {e}\")\n"
   ]
  },
  {
   "cell_type": "code",
   "execution_count": 2,
   "id": "7e56b4f3",
   "metadata": {},
   "outputs": [],
   "source": [
    "import pandas as pd\n",
    "\n",
    "# Combine background DataFrames\n",
    "background_data = pd.concat(dfs_background.values(), ignore_index=True)\n",
    "\n",
    "# Combine signal DataFrames\n",
    "signal_data = pd.concat(dfs_signal.values(), ignore_index=True)\n",
    "\n",
    "# Combine data DataFrames\n",
    "data = pd.concat(dfs_data.values(), ignore_index=True)\n"
   ]
  },
  {
   "cell_type": "code",
   "execution_count": 3,
   "id": "807b06e9",
   "metadata": {},
   "outputs": [],
   "source": [
    "# Example: Splitting GGJets as resonant and GJets as non-resonant\n",
    "resonant_background = dfs_background[\"/GGJets/preselection\"]\n",
    "non_resonant_background = pd.concat(\n",
    "    [dfs_background[\"/GJetPt20to40/preselection\"], dfs_background[\"/GJetPt40/preselection\"]],\n",
    "    ignore_index=True\n",
    ")\n"
   ]
  },
  {
   "cell_type": "code",
   "execution_count": 4,
   "id": "f979689c",
   "metadata": {},
   "outputs": [
    {
     "data": {
      "image/png": "[encoded data removed]",
      "text/plain": [
       "<Figure size 432x288 with 1 Axes>"
      ]
     },
     "metadata": {
      "needs_background": "light"
     },
     "output_type": "display_data"
    }
   ],
   "source": [
    "import matplotlib.pyplot as plt\n",
    "\n",
    "plt.hist(signal_data['bbgg_mass'], bins=50, alpha=0.5, label='Signal')\n",
    "plt.hist(background_data['bbgg_mass'], bins=50, alpha=0.5, label='Background')\n",
    "plt.hist(data['bbgg_mass'], bins=50, histtype='step', label='Data')\n",
    "plt.xlabel('bbgg_mass')\n",
    "plt.legend()\n",
    "plt.show()\n"
   ]
  },
  {
   "cell_type": "code",
   "execution_count": 5,
   "id": "26b3dd16",
   "metadata": {},
   "outputs": [
    {
     "name": "stderr",
     "output_type": "stream",
     "text": [
      "/cvmfs/sft.cern.ch/lcg/views/LCG_105_cuda/x86_64-el9-gcc11-opt/lib/python3.9/site-packages/zfit/__init__.py:63: UserWarning: TensorFlow warnings are by default suppressed by zfit. In order to show them, set the environment variable ZFIT_DISABLE_TF_WARNINGS=0. In order to suppress the TensorFlow warnings AND this warning, set ZFIT_DISABLE_TF_WARNINGS=1.\n",
      "  warnings.warn(\n"
     ]
    }
   ],
   "source": [
    "import zfit\n",
    "import tensorflow as tf\n",
    "\n",
    "# Define variables\n",
    "bbgg_mass = zfit.Space(\"bbgg_mass\", limits=(200, 1500))  # Define range\n",
    "dibjet_mass = zfit.Space(\"dibjet_mass\", limits=(50, 300))\n",
    "diphoton_mass = zfit.Space(\"diphoton_mass\", limits=(100, 160))\n",
    "\n",
    "# Signal model (Gaussian for simplicity)\n",
    "mean_signal = zfit.Parameter(\"mean_signal\", 1250, 1000, 1500)\n",
    "sigma_signal = zfit.Parameter(\"sigma_signal\", 50, 10, 100)\n",
    "signal_pdf = zfit.pdf.Gauss(obs=bbgg_mass, mu=mean_signal, sigma=sigma_signal)\n",
    "\n",
    "# Resonant background model\n",
    "mean_res = zfit.Parameter(\"mean_res\", 600, 500, 800)\n",
    "sigma_res = zfit.Parameter(\"sigma_res\", 100, 50, 200)\n",
    "resonant_pdf = zfit.pdf.Gauss(obs=bbgg_mass, mu=mean_res, sigma=sigma_res)\n",
    "\n",
    "# Non-resonant background model\n",
    "slope = zfit.Parameter(\"slope\", -0.01, -1, 0)\n",
    "non_resonant_pdf = zfit.pdf.Exponential(obs=bbgg_mass, lam=slope)\n",
    "\n",
    "# Combine PDFs\n",
    "fraction_signal = zfit.Parameter(\"fraction_signal\", 0.1, 0.0, 1.0)\n",
    "fraction_resonant = zfit.Parameter(\"fraction_resonant\", 0.3, 0.0, 1.0)\n",
    "total_pdf = zfit.pdf.SumPDF(\n",
    "    [signal_pdf, resonant_pdf, non_resonant_pdf],\n",
    "    fracs=[fraction_signal, fraction_resonant]\n",
    ")\n"
   ]
  },
  {
   "cell_type": "code",
   "execution_count": 6,
   "id": "5a648723",
   "metadata": {},
   "outputs": [],
   "source": [
    "bbgg_mass_data = data['bbgg_mass'].to_numpy()\n",
    "dataset = zfit.Data.from_numpy(obs=bbgg_mass, array=bbgg_mass_data)\n"
   ]
  },
  {
   "cell_type": "code",
   "execution_count": 7,
   "id": "7d756aac",
   "metadata": {},
   "outputs": [
    {
     "name": "stdout",
     "output_type": "stream",
     "text": [
      "FitResult of\n",
      "<UnbinnedNLL model=[<zfit.<class 'zfit.models.functor.SumPDF'>  params=[Composed_autoparam_0, fraction_resonant, fraction_signal]] data=[<zfit.core.data.Data object at 0x7fc126d7e1f0>] constraints=[]> \n",
      "with\n",
      "<Minuit Minuit tol=0.001>\n",
      "\n",
      "╒═════════╤═════════════╤══════════════════╤═════════╤══════════════════════════════════╕\n",
      "│  valid  │  converged  │  param at limit  │   edm   │   approx. fmin (full | internal) │\n",
      "╞═════════╪═════════════╪══════════════════╪═════════╪══════════════════════════════════╡\n",
      "│  False  │    True     │       True       │ 3.1e-07 │            663757.05 | -16557.54 │\n",
      "╘═════════╧═════════════╧══════════════════╧═════════╧══════════════════════════════════╛\n",
      "\n",
      "Parameters\n",
      "name                 value  (rounded)    at limit\n",
      "-----------------  ------------------  ----------\n",
      "fraction_signal            0.00220216       False\n",
      "fraction_resonant         1.57238e-11        True\n",
      "mean_signal                   1256.83       False\n",
      "sigma_signal                      100        True\n",
      "mean_res                      523.791       False\n",
      "sigma_res                     173.285       False\n",
      "slope                     -0.00683477       False\n"
     ]
    }
   ],
   "source": [
    "# perform the fit\n",
    "nll = zfit.loss.UnbinnedNLL(model=total_pdf, data=dataset)\n",
    "minimizer = zfit.minimize.Minuit()\n",
    "result = minimizer.minimize(nll)\n",
    "print(result)\n"
   ]
  },
  {
   "cell_type": "code",
   "execution_count": 9,
   "id": "cdf0467e",
   "metadata": {},
   "outputs": [
    {
     "data": {
      "image/png": "[encoded data removed]",
      "text/plain": [
       "<Figure size 432x288 with 1 Axes>"
      ]
     },
     "metadata": {
      "needs_background": "light"
     },
     "output_type": "display_data"
    }
   ],
   "source": [
    "import numpy as np\n",
    "\n",
    "x = np.linspace(200, 1500, 300)\n",
    "y = total_pdf.pdf(x)\n",
    "plt.plot(x, y, label=\"Total Fit\")\n",
    "plt.hist(bbgg_mass_data, bins=100, histtype='step', label=\"Data\")\n",
    "plt.legend()\n",
    "plt.show()\n"
   ]
  },
  {
   "cell_type": "code",
   "execution_count": null,
   "id": "76b1a25a",
   "metadata": {},
   "outputs": [],
   "source": []
  },
  {
   "cell_type": "code",
   "execution_count": 10,
   "id": "d40be203",
   "metadata": {},
   "outputs": [],
   "source": [
    "import zfit\n",
    "\n",
    "# Define spaces for 2D\n",
    "bbgg_mass = zfit.Space(\"bbgg_mass\", limits=(200, 1500))\n",
    "dibjet_mass = zfit.Space(\"dibjet_mass\", limits=(50, 300))\n",
    "obs2D = bbgg_mass * dibjet_mass\n",
    "\n",
    "# Define PDFs for each dimension\n",
    "mean_bbgg = zfit.Parameter(\"mean_bbgg\", 1250, 1000, 1500)\n",
    "sigma_bbgg = zfit.Parameter(\"sigma_bbgg\", 50, 10, 100)\n",
    "gauss_bbgg = zfit.pdf.Gauss(obs=bbgg_mass, mu=mean_bbgg, sigma=sigma_bbgg)\n",
    "\n",
    "mean_dibjet = zfit.Parameter(\"mean_dibjet\", 150, 100, 200)\n",
    "sigma_dibjet = zfit.Parameter(\"sigma_dibjet\", 20, 5, 50)\n",
    "gauss_dibjet = zfit.pdf.Gauss(obs=dibjet_mass, mu=mean_dibjet, sigma=sigma_dibjet)\n",
    "\n",
    "# Combine PDFs (assume independence for now)\n",
    "signal_pdf_2D = zfit.pdf.ProductPDF([gauss_bbgg, gauss_dibjet])\n",
    "\n",
    "# Data for 2D fit\n",
    "data_2D = zfit.Data.from_numpy(obs=obs2D, array=data[['bbgg_mass', 'dibjet_mass']].to_numpy())\n",
    "\n",
    "# Fit\n",
    "nll = zfit.loss.UnbinnedNLL(model=signal_pdf_2D, data=data_2D)\n",
    "minimizer = zfit.minimize.Minuit()\n",
    "result = minimizer.minimize(nll)\n"
   ]
  },
  {
   "cell_type": "code",
   "execution_count": 11,
   "id": "4a9c2d03",
   "metadata": {},
   "outputs": [],
   "source": [
    "bbgg_mass_data = data['bbgg_mass'].to_numpy()\n",
    "dataset = zfit.Data.from_numpy(obs=bbgg_mass, array=bbgg_mass_data)\n"
   ]
  },
  {
   "cell_type": "code",
   "execution_count": 12,
   "id": "9fcc8fa4",
   "metadata": {},
   "outputs": [
    {
     "name": "stdout",
     "output_type": "stream",
     "text": [
      "FitResult of\n",
      "<UnbinnedNLL model=[<zfit.<class 'zfit.models.functor.SumPDF'>  params=[Composed_autoparam_0, fraction_resonant, fraction_signal]] data=[<zfit.core.data.Data object at 0x7fc07030ceb0>] constraints=[]> \n",
      "with\n",
      "<Minuit Minuit tol=0.001>\n",
      "\n",
      "╒═════════╤═════════════╤══════════════════╤═════════╤══════════════════════════════════╕\n",
      "│  valid  │  converged  │  param at limit  │   edm   │   approx. fmin (full | internal) │\n",
      "╞═════════╪═════════════╪══════════════════╪═════════╪══════════════════════════════════╡\n",
      "│  False  │    True     │       True       │ 5.2e-07 │              663739.76 |  9982.7 │\n",
      "╘═════════╧═════════════╧══════════════════╧═════════╧══════════════════════════════════╛\n",
      "\n",
      "Parameters\n",
      "name                 value  (rounded)    at limit\n",
      "-----------------  ------------------  ----------\n",
      "fraction_signal            0.00167442       False\n",
      "fraction_resonant          0.00626497       False\n",
      "mean_signal                   1319.99       False\n",
      "sigma_signal                      100        True\n",
      "mean_res                          800        True\n",
      "sigma_res                         200        True\n",
      "slope                     -0.00695852       False\n"
     ]
    }
   ],
   "source": [
    "# perform the fit\n",
    "nll = zfit.loss.UnbinnedNLL(model=total_pdf, data=dataset)\n",
    "minimizer = zfit.minimize.Minuit()\n",
    "result = minimizer.minimize(nll)\n",
    "print(result)\n"
   ]
  },
  {
   "cell_type": "code",
   "execution_count": 13,
   "id": "5a1765b3",
   "metadata": {},
   "outputs": [
    {
     "data": {
      "image/png": "[encoded data removed]",
      "text/plain": [
       "<Figure size 432x288 with 1 Axes>"
      ]
     },
     "metadata": {
      "needs_background": "light"
     },
     "output_type": "display_data"
    }
   ],
   "source": [
    "import numpy as np\n",
    "\n",
    "x = np.linspace(200, 1500, 300)\n",
    "y = total_pdf.pdf(x)\n",
    "plt.plot(x, y, label=\"Total Fit\")\n",
    "plt.hist(bbgg_mass_data, bins=100, histtype='step', label=\"Data\")\n",
    "plt.legend()\n",
    "plt.show()\n"
   ]
  },
  {
   "cell_type": "markdown",
   "id": "2cede94d",
   "metadata": {},
   "source": [
    "# Alternative fitting methods"
   ]
  },
  {
   "cell_type": "code",
   "execution_count": 14,
   "id": "8b29214f",
   "metadata": {},
   "outputs": [
    {
     "data": {
      "image/png": "[encoded data removed]",
      "text/plain": [
       "<Figure size 432x288 with 1 Axes>"
      ]
     },
     "metadata": {
      "needs_background": "light"
     },
     "output_type": "display_data"
    }
   ],
   "source": [
    "from sklearn.neighbors import KernelDensity\n",
    "import numpy as np\n",
    "\n",
    "# Fit KDE to bbgg_mass\n",
    "kde = KernelDensity(kernel='gaussian', bandwidth=10).fit(data['bbgg_mass'].values.reshape(-1, 1))\n",
    "\n",
    "# Generate the KDE PDF\n",
    "x = np.linspace(200, 1500, 300).reshape(-1, 1)\n",
    "log_density = kde.score_samples(x)  # Log of PDF\n",
    "density = np.exp(log_density)\n",
    "\n",
    "# Plot\n",
    "import matplotlib.pyplot as plt\n",
    "plt.hist(data['bbgg_mass'], bins=50, density=True, alpha=0.5, label='Data')\n",
    "plt.plot(x, density, label='KDE Fit')\n",
    "plt.xlabel('bbgg_mass')\n",
    "plt.legend()\n",
    "plt.show()\n"
   ]
  },
  {
   "cell_type": "code",
   "execution_count": 16,
   "id": "e2b94d60",
   "metadata": {},
   "outputs": [
    {
     "ename": "NameAlreadyTakenError",
     "evalue": "Another parameter is already named mean_signal. Use a different, unique one.",
     "output_type": "error",
     "traceback": [
      "\u001b[0;31m---------------------------------------------------------------------------\u001b[0m",
      "\u001b[0;31mNameAlreadyTakenError\u001b[0m                     Traceback (most recent call last)",
      "\u001b[0;32m/tmp/sraj/ipykernel_2401278/3030326454.py\u001b[0m in \u001b[0;36m<module>\u001b[0;34m\u001b[0m\n\u001b[1;32m      2\u001b[0m \u001b[0;34m\u001b[0m\u001b[0m\n\u001b[1;32m      3\u001b[0m \u001b[0;31m# Define parameters for two Gaussians\u001b[0m\u001b[0;34m\u001b[0m\u001b[0;34m\u001b[0m\u001b[0m\n\u001b[0;32m----> 4\u001b[0;31m \u001b[0mmean_signal_double_gaussian\u001b[0m \u001b[0;34m=\u001b[0m \u001b[0mzfit\u001b[0m\u001b[0;34m.\u001b[0m\u001b[0mParameter\u001b[0m\u001b[0;34m(\u001b[0m\u001b[0;34m\"mean_signal\"\u001b[0m\u001b[0;34m,\u001b[0m \u001b[0;36m1250\u001b[0m\u001b[0;34m,\u001b[0m \u001b[0;36m1000\u001b[0m\u001b[0;34m,\u001b[0m \u001b[0;36m1500\u001b[0m\u001b[0;34m)\u001b[0m\u001b[0;34m\u001b[0m\u001b[0;34m\u001b[0m\u001b[0m\n\u001b[0m\u001b[1;32m      5\u001b[0m \u001b[0msigma1\u001b[0m \u001b[0;34m=\u001b[0m \u001b[0mzfit\u001b[0m\u001b[0;34m.\u001b[0m\u001b[0mParameter\u001b[0m\u001b[0;34m(\u001b[0m\u001b[0;34m\"sigma1\"\u001b[0m\u001b[0;34m,\u001b[0m \u001b[0;36m50\u001b[0m\u001b[0;34m,\u001b[0m \u001b[0;36m10\u001b[0m\u001b[0;34m,\u001b[0m \u001b[0;36m100\u001b[0m\u001b[0;34m)\u001b[0m\u001b[0;34m\u001b[0m\u001b[0;34m\u001b[0m\u001b[0m\n\u001b[1;32m      6\u001b[0m \u001b[0msigma2\u001b[0m \u001b[0;34m=\u001b[0m \u001b[0mzfit\u001b[0m\u001b[0;34m.\u001b[0m\u001b[0mParameter\u001b[0m\u001b[0;34m(\u001b[0m\u001b[0;34m\"sigma2\"\u001b[0m\u001b[0;34m,\u001b[0m \u001b[0;36m100\u001b[0m\u001b[0;34m,\u001b[0m \u001b[0;36m50\u001b[0m\u001b[0;34m,\u001b[0m \u001b[0;36m200\u001b[0m\u001b[0;34m)\u001b[0m\u001b[0;34m\u001b[0m\u001b[0;34m\u001b[0m\u001b[0m\n",
      "\u001b[0;32m/cvmfs/sft.cern.ch/lcg/views/LCG_105_cuda/x86_64-el9-gcc11-opt/lib/python3.9/site-packages/tensorflow/python/util/traceback_utils.py\u001b[0m in \u001b[0;36merror_handler\u001b[0;34m(*args, **kwargs)\u001b[0m\n\u001b[1;32m    151\u001b[0m     \u001b[0;32mexcept\u001b[0m \u001b[0mException\u001b[0m \u001b[0;32mas\u001b[0m \u001b[0me\u001b[0m\u001b[0;34m:\u001b[0m\u001b[0;34m\u001b[0m\u001b[0;34m\u001b[0m\u001b[0m\n\u001b[1;32m    152\u001b[0m       \u001b[0mfiltered_tb\u001b[0m \u001b[0;34m=\u001b[0m \u001b[0m_process_traceback_frames\u001b[0m\u001b[0;34m(\u001b[0m\u001b[0me\u001b[0m\u001b[0;34m.\u001b[0m\u001b[0m__traceback__\u001b[0m\u001b[0;34m)\u001b[0m\u001b[0;34m\u001b[0m\u001b[0;34m\u001b[0m\u001b[0m\n\u001b[0;32m--> 153\u001b[0;31m       \u001b[0;32mraise\u001b[0m \u001b[0me\u001b[0m\u001b[0;34m.\u001b[0m\u001b[0mwith_traceback\u001b[0m\u001b[0;34m(\u001b[0m\u001b[0mfiltered_tb\u001b[0m\u001b[0;34m)\u001b[0m \u001b[0;32mfrom\u001b[0m \u001b[0;32mNone\u001b[0m\u001b[0;34m\u001b[0m\u001b[0;34m\u001b[0m\u001b[0m\n\u001b[0m\u001b[1;32m    154\u001b[0m     \u001b[0;32mfinally\u001b[0m\u001b[0;34m:\u001b[0m\u001b[0;34m\u001b[0m\u001b[0;34m\u001b[0m\u001b[0m\n\u001b[1;32m    155\u001b[0m       \u001b[0;32mdel\u001b[0m \u001b[0mfiltered_tb\u001b[0m\u001b[0;34m\u001b[0m\u001b[0;34m\u001b[0m\u001b[0m\n",
      "\u001b[0;32m/cvmfs/sft.cern.ch/lcg/views/LCG_105_cuda/x86_64-el9-gcc11-opt/lib/python3.9/site-packages/zfit/core/parameter.py\u001b[0m in \u001b[0;36m__init__\u001b[0;34m(self, name, value, lower, upper, step_size, floating, dtype, lower_limit, upper_limit)\u001b[0m\n\u001b[1;32m    416\u001b[0m             )\n\u001b[1;32m    417\u001b[0m \u001b[0;34m\u001b[0m\u001b[0m\n\u001b[0;32m--> 418\u001b[0;31m         super().__init__(\n\u001b[0m\u001b[1;32m    419\u001b[0m             \u001b[0minitial_value\u001b[0m\u001b[0;34m=\u001b[0m\u001b[0mvalue\u001b[0m\u001b[0;34m,\u001b[0m\u001b[0;34m\u001b[0m\u001b[0;34m\u001b[0m\u001b[0m\n\u001b[1;32m    420\u001b[0m             \u001b[0mdtype\u001b[0m\u001b[0;34m=\u001b[0m\u001b[0mdtype\u001b[0m\u001b[0;34m,\u001b[0m\u001b[0;34m\u001b[0m\u001b[0;34m\u001b[0m\u001b[0m\n",
      "\u001b[0;32m/cvmfs/sft.cern.ch/lcg/views/LCG_105_cuda/x86_64-el9-gcc11-opt/lib/python3.9/site-packages/zfit/core/parameter.py\u001b[0m in \u001b[0;36m__init__\u001b[0;34m(self, name, **kwargs)\u001b[0m\n\u001b[1;32m    282\u001b[0m     \u001b[0;32mdef\u001b[0m \u001b[0m__init__\u001b[0m\u001b[0;34m(\u001b[0m\u001b[0mself\u001b[0m\u001b[0;34m,\u001b[0m \u001b[0mname\u001b[0m\u001b[0;34m,\u001b[0m \u001b[0;34m**\u001b[0m\u001b[0mkwargs\u001b[0m\u001b[0;34m)\u001b[0m\u001b[0;34m:\u001b[0m\u001b[0;34m\u001b[0m\u001b[0;34m\u001b[0m\u001b[0m\n\u001b[1;32m    283\u001b[0m         \u001b[0;32mif\u001b[0m \u001b[0mname\u001b[0m \u001b[0;32min\u001b[0m \u001b[0mself\u001b[0m\u001b[0;34m.\u001b[0m\u001b[0m_existing_params\u001b[0m\u001b[0;34m:\u001b[0m\u001b[0;34m\u001b[0m\u001b[0;34m\u001b[0m\u001b[0m\n\u001b[0;32m--> 284\u001b[0;31m             raise NameAlreadyTakenError(\n\u001b[0m\u001b[1;32m    285\u001b[0m                 \u001b[0;34m\"Another parameter is already named {}. \"\u001b[0m\u001b[0;34m\u001b[0m\u001b[0;34m\u001b[0m\u001b[0m\n\u001b[1;32m    286\u001b[0m                 \u001b[0;34m\"Use a different, unique one.\"\u001b[0m\u001b[0;34m.\u001b[0m\u001b[0mformat\u001b[0m\u001b[0;34m(\u001b[0m\u001b[0mname\u001b[0m\u001b[0;34m)\u001b[0m\u001b[0;34m\u001b[0m\u001b[0;34m\u001b[0m\u001b[0m\n",
      "\u001b[0;31mNameAlreadyTakenError\u001b[0m: Another parameter is already named mean_signal. Use a different, unique one."
     ]
    }
   ],
   "source": [
    "import zfit\n",
    "\n",
    "# Define parameters for two Gaussians\n",
    "mean_signal_double_gaussian = zfit.Parameter(\"mean_signal\", 1250, 1000, 1500)\n",
    "sigma1 = zfit.Parameter(\"sigma1\", 50, 10, 100)\n",
    "sigma2 = zfit.Parameter(\"sigma2\", 100, 50, 200)\n",
    "frac_gauss1 = zfit.Parameter(\"frac_gauss1\", 0.7, 0, 1)\n",
    "\n",
    "gauss1 = zfit.pdf.Gauss(obs=bbgg_mass, mu=mean_signal_double_gaussian, sigma=sigma1)\n",
    "gauss2 = zfit.pdf.Gauss(obs=bbgg_mass, mu=mean_signal_double_gaussian, sigma=sigma2)\n",
    "\n",
    "double_gauss = zfit.pdf.SumPDF([gauss1, gauss2], fracs=[frac_gauss1])\n",
    "\n",
    "# Fit\n",
    "nll = zfit.loss.UnbinnedNLL(model=double_gauss, data=dataset)\n",
    "result = zfit.minimize.Minuit().minimize(nll)\n"
   ]
  },
  {
   "cell_type": "code",
   "execution_count": 17,
   "id": "cd077ea0",
   "metadata": {},
   "outputs": [],
   "source": [
    "from sklearn.neural_network import MLPRegressor\n",
    "\n",
    "# Train neural network for bbgg_mass\n",
    "X_signal = signal_data[['bbgg_mass']]\n",
    "X_background = background_data[['bbgg_mass']]\n",
    "X = pd.concat([X_signal, X_background])\n",
    "y = [1] * len(X_signal) + [0] * len(X_background)\n",
    "\n",
    "nn = MLPRegressor(hidden_layer_sizes=(100, 50), activation='relu', max_iter=1000)\n",
    "nn.fit(X, y)\n",
    "\n",
    "# Predict densities for data\n",
    "data['pdf'] = nn.predict(data[['bbgg_mass']])\n"
   ]
  },
  {
   "cell_type": "code",
   "execution_count": null,
   "id": "c7802390",
   "metadata": {},
   "outputs": [],
   "source": []
  }
 ],
 "metadata": {
  "kernelspec": {
   "display_name": "Python 3 (ipykernel)",
   "language": "python",
   "name": "python3"
  },
  "language_info": {
   "codemirror_mode": {
    "name": "ipython",
    "version": 3
   },
   "file_extension": ".py",
   "mimetype": "text/x-python",
   "name": "python",
   "nbconvert_exporter": "python",
   "pygments_lexer": "ipython3",
   "version": "3.9.12"
  }
 },
 "nbformat": 4,
 "nbformat_minor": 5
}
