{
 "cells": [
  {
   "cell_type": "markdown",
   "id": "dbc28302",
   "metadata": {},
   "source": [
    "# Background fit "
   ]
  },
  {
   "cell_type": "markdown",
   "id": "513762ce",
   "metadata": {},
   "source": [
    "### Non-Resonant background "
   ]
  },
  {
   "cell_type": "code",
   "execution_count": 23,
   "id": "d410a7a0",
   "metadata": {},
   "outputs": [],
   "source": [
    "import uproot\n",
    "import awkward as ak\n",
    "from vector import Array as awk\n",
    "import numpy as np\n",
    "\n",
    "# Path to the ROOT file and tree\n",
    "file_path_signal = \"../../../output_root/v2_production/backgrounds/GJetPt40.root\"\n",
    "tree_name = \"DiphotonTree/data_125_13TeV_NOTAG/\"\n",
    "\n",
    "\n",
    "# Load the ROOT file and extract variables\n",
    "with uproot.open(file_path_signal) as file:\n",
    "    tree = file[tree_name]\n",
    "    \n",
    "    # Extract b-jet variables\n",
    "    lead_bjet_pt = tree[\"Res_lead_bjet_pt\"].array(library=\"ak\")    # Transverse momentum of leading b-jet\n",
    "    lead_bjet_eta = tree[\"Res_lead_bjet_eta\"].array(library=\"ak\")  # Pseudorapidity of leading b-jet\n",
    "    lead_bjet_phi = tree[\"Res_lead_bjet_phi\"].array(library=\"ak\")  # Azimuthal angle of leading b-jet\n",
    "    lead_bjet_mass = tree[\"Res_lead_bjet_mass\"].array(library=\"ak\") # Mass of leading b-jet\n",
    "\n",
    "    sublead_bjet_pt = tree[\"Res_sublead_bjet_pt\"].array(library=\"ak\")    # Transverse momentum of subleading b-jet\n",
    "    sublead_bjet_eta = tree[\"Res_sublead_bjet_eta\"].array(library=\"ak\")  # Pseudorapidity of subleading b-jet\n",
    "    sublead_bjet_phi = tree[\"Res_sublead_bjet_phi\"].array(library=\"ak\")  # Azimuthal angle of subleading b-jet\n",
    "    sublead_bjet_mass = tree[\"Res_sublead_bjet_mass\"].array(library=\"ak\") # Mass of subleading b-jet\n",
    "\n",
    "    # Extract dijet variables\n",
    "    dijet_pt = tree[\"Res_dijet_pt\"].array(library=\"ak\")    # Transverse momentum of the dijet system\n",
    "    dijet_eta = tree[\"Res_dijet_eta\"].array(library=\"ak\")  # Pseudorapidity of the dijet system\n",
    "    dijet_phi = tree[\"Res_dijet_phi\"].array(library=\"ak\")  # Azimuthal angle of the dijet system\n",
    "    dijet_mass = tree[\"Res_dijet_mass\"].array(library=\"ak\") # Mass of the dijet system\n",
    "    \n",
    "    bbgg_mass = tree[\"Res_HHbbggCandidate_mass\"].array(library=\"ak\")\n",
    "\n",
    "\n",
    "# Load the ROOT file and extract variables\n",
    "with uproot.open(file_path_signal) as file:\n",
    "    tree = file[tree_name]\n",
    "    lead_pho_pt = tree[\"lead_pt\"].array(library=\"ak\")\n",
    "    lead_pho_eta = tree[\"lead_eta\"].array(library=\"ak\")\n",
    "    lead_pho_phi = tree[\"lead_phi\"].array(library=\"ak\")\n",
    "    sublead_pho_pt = tree[\"sublead_pt\"].array(library=\"ak\")\n",
    "    sublead_pho_eta = tree[\"sublead_eta\"].array(library=\"ak\")\n",
    "    sublead_pho_phi = tree[\"sublead_phi\"].array(library=\"ak\")\n",
    "\n",
    "# Define the lVector function\n",
    "def lVector(pt1, eta1, phi1, pt2, eta2, phi2, mass1=0, mass2=0):\n",
    "    lvec_1 = awk(\n",
    "        ak.zip({\"pt\": pt1, \"eta\": eta1, \"phi\": phi1, \"mass\": ak.full_like(pt1, mass1)})\n",
    "    )\n",
    "    lvec_2 = awk(\n",
    "        ak.zip({\"pt\": pt2, \"eta\": eta2, \"phi\": phi2, \"mass\": ak.full_like(pt2, mass2)})\n",
    "    )\n",
    "    lvec_ = lvec_1 + lvec_2\n",
    "    return lvec_\n",
    "\n",
    "# Compute the diphoton Lorentz vector\n",
    "diphoton_ = lVector(\n",
    "    lead_pho_pt,\n",
    "    lead_pho_eta,\n",
    "    lead_pho_phi,\n",
    "    sublead_pho_pt,\n",
    "    sublead_pho_eta,\n",
    "    sublead_pho_phi,\n",
    ")\n",
    "\n",
    "\n",
    "# Compute diphoton mass from its Lorentz vector\n",
    "diphoton_mass = diphoton_.mass\n",
    "\n",
    "\n",
    "diphoton_mass_np = ak.to_numpy(diphoton_mass)\n",
    "\n",
    "# Convert extracted variabless to NumPy arrays\n",
    "bbgg_mass_np = ak.to_numpy(bbgg_mass)\n",
    "# dibjet_mass_np = ak.to_numpy(dibjet_mass)\n",
    "\n",
    "# Compute reduced_mass\n",
    "reduced_mass = bbgg_mass_np - (diphoton_mass_np - 125) - (dijet_mass - 125)"
   ]
  },
  {
   "cell_type": "markdown",
   "id": "7c48a6ad",
   "metadata": {},
   "source": [
    "## Fitting backgrounds"
   ]
  },
  {
   "cell_type": "code",
   "execution_count": 36,
   "id": "5237453d",
   "metadata": {},
   "outputs": [
    {
     "data": {
      "image/png": "[encoded data removed]",
      "text/plain": [
       "<Figure size 504x360 with 1 Axes>"
      ]
     },
     "metadata": {
      "needs_background": "light"
     },
     "output_type": "display_data"
    }
   ],
   "source": [
    "import numpy as np\n",
    "import matplotlib.pyplot as plt\n",
    "from scipy.optimize import curve_fit\n",
    "import uproot\n",
    "import awkward as ak\n",
    "from vector import Array as awk\n",
    "\n",
    "# Load the ROOT file and extract diphoton mass\n",
    "# file_path_signal = \"/mnt/data/GJetPt40.root\"  # Update this if needed\n",
    "# tree_name = \"DiphotonTree/data_125_13TeV_NOTAG/\"\n",
    "\n",
    "\n",
    "\n",
    "# Define Gaussian fit function\n",
    "def gaussian(x, A, mu, sigma):\n",
    "    return A * np.exp(-0.5 * ((x - mu) / sigma) ** 2)\n",
    "\n",
    "# Create histogram\n",
    "bins = np.linspace(50, 180, 50)  # Adjust as needed\n",
    "hist, bin_edges = np.histogram(diphoton_mass, bins=bins, density=True)\n",
    "bin_centers = (bin_edges[:-1] + bin_edges[1:]) / 2\n",
    "\n",
    "# Fit the histogram data with a Gaussian\n",
    "popt, _ = curve_fit(gaussian, bin_centers, hist, p0=[0.01, 125, 10])\n",
    "\n",
    "# Generate smooth Gaussian curve\n",
    "x_fit = np.linspace(50, 180, 1000)\n",
    "y_fit = gaussian(x_fit, *popt)\n",
    "\n",
    "# Calculate FWHM\n",
    "sigma = popt[2]\n",
    "mu = popt[1]\n",
    "fwhm_low, fwhm_high = mu - sigma * np.sqrt(2 * np.log(2)), mu + sigma * np.sqrt(2 * np.log(2))\n",
    "\n",
    "# Plot\n",
    "plt.figure(figsize=(7, 5))\n",
    "plt.hist(diphoton_mass, bins=bins, density=True, histtype=\"step\", color=\"black\", label=\"Simulation\")\n",
    "plt.plot(x_fit, y_fit, color=\"blue\", label=\"Gaussian Fit\")\n",
    "plt.axvspan(fwhm_low, fwhm_high, color='gray', alpha=0.5, label=\"FWHM Region\")\n",
    "\n",
    "plt.xlabel(r\"$m_{\\gamma\\gamma}$ [GeV]\")\n",
    "plt.ylabel(\"Events / Bin\")\n",
    "plt.legend()\n",
    "plt.title(\"Diphoton Mass Fit\")\n",
    "plt.show()\n"
   ]
  },
  {
   "cell_type": "code",
   "execution_count": null,
   "id": "f1a0efe9",
   "metadata": {},
   "outputs": [],
   "source": []
  },
  {
   "cell_type": "code",
   "execution_count": null,
   "id": "ad348aec",
   "metadata": {},
   "outputs": [],
   "source": []
  },
  {
   "cell_type": "code",
   "execution_count": 37,
   "id": "1095f0d7",
   "metadata": {},
   "outputs": [
    {
     "name": "stderr",
     "output_type": "stream",
     "text": [
      "/tmp/sraj/ipykernel_423361/3729669725.py:31: RuntimeWarning: invalid value encountered in double_scalars\n",
      "  return A * ((n1 / abs_alpha1) ** n1) * np.exp(-0.5 * abs_alpha1**2) / ((n1 / abs_alpha1 - abs_alpha1 - t) ** n1)\n",
      "/tmp/sraj/ipykernel_423361/3729669725.py:35: RuntimeWarning: invalid value encountered in double_scalars\n",
      "  return A * ((n2 / abs_alpha2) ** n2) * np.exp(-0.5 * abs_alpha2**2) / ((n2 / abs_alpha2 - abs_alpha2 + t) ** n2)\n",
      "/tmp/sraj/ipykernel_423361/3729669725.py:35: RuntimeWarning: overflow encountered in double_scalars\n",
      "  return A * ((n2 / abs_alpha2) ** n2) * np.exp(-0.5 * abs_alpha2**2) / ((n2 / abs_alpha2 - abs_alpha2 + t) ** n2)\n"
     ]
    }
   ],
   "source": [
    "# Adjusted initial parameters for better fit\n",
    "initial_guess = [0.01, 125, 1.5, 1.2, 3.0, 1.5, 3.0]  \n",
    "\n",
    "# Fit using the adjusted parameters\n",
    "popt_dscb, pcov_dscb = curve_fit(dscb_vectorized, bin_centers, hist, p0=initial_guess, maxfev=5000)\n",
    "\n",
    "# Compute parameter errors (square root of diagonal elements of covariance matrix)\n",
    "errors_dscb = np.sqrt(np.diag(pcov_dscb))\n",
    "\n",
    "# Generate DSCB curve\n",
    "y_fit_dscb = dscb_vectorized(x_fit, *popt_dscb)\n"
   ]
  },
  {
   "cell_type": "code",
   "execution_count": 38,
   "id": "fd3f8169",
   "metadata": {},
   "outputs": [],
   "source": [
    "from scipy.stats import norm\n",
    "\n",
    "# Fit Gaussian\n",
    "popt_gauss, _ = curve_fit(lambda x, A, mu, sigma: A * norm.pdf(x, mu, sigma), bin_centers, hist, \n",
    "                          p0=[0.01, 125, 2.0])\n",
    "\n",
    "# Generate Gaussian curve\n",
    "y_fit_gauss = popt_gauss[0] * norm.pdf(x_fit, popt_gauss[1], popt_gauss[2])\n"
   ]
  },
  {
   "cell_type": "code",
   "execution_count": 39,
   "id": "31bc5e72",
   "metadata": {},
   "outputs": [
    {
     "name": "stdout",
     "output_type": "stream",
     "text": [
      "Reduced χ² (DSCB) = 0.000\n",
      "Reduced χ² (Gaussian) = 0.012\n"
     ]
    }
   ],
   "source": [
    "def chi_square(y_obs, y_exp, errors):\n",
    "    return np.sum(((y_obs - y_exp) / errors) ** 2) / (len(y_obs) - len(popt_dscb))\n",
    "\n",
    "# Estimate histogram uncertainties (Poisson errors)\n",
    "errors_hist = np.sqrt(hist + 1e-6)  # Adding small value to avoid division by zero\n",
    "\n",
    "# Compute Chi-square\n",
    "chi2_dscb = chi_square(hist, dscb_vectorized(bin_centers, *popt_dscb), errors_hist)\n",
    "chi2_gauss = chi_square(hist, popt_gauss[0] * norm.pdf(bin_centers, popt_gauss[1], popt_gauss[2]), errors_hist)\n",
    "\n",
    "print(f\"Reduced χ² (DSCB) = {chi2_dscb:.3f}\")\n",
    "print(f\"Reduced χ² (Gaussian) = {chi2_gauss:.3f}\")\n"
   ]
  },
  {
   "cell_type": "code",
   "execution_count": 42,
   "id": "1f0f087e",
   "metadata": {},
   "outputs": [
    {
     "data": {
      "image/png": "[encoded data removed]",
      "text/plain": [
       "<Figure size 504x360 with 1 Axes>"
      ]
     },
     "metadata": {
      "needs_background": "light"
     },
     "output_type": "display_data"
    }
   ],
   "source": [
    "plt.figure(figsize=(7, 5))\n",
    "plt.hist(diphoton_mass, bins=bins, density=True, histtype=\"step\", color=\"black\", label=\"Simulation\")\n",
    "plt.plot(x_fit, y_fit_dscb, color=\"red\", label=\"Double-Sided Crystal Ball Fit\")\n",
    "# plt.plot(x_fit, y_fit_gauss, color=\"blue\", linestyle=\"dashed\", label=\"Gaussian Fit\")\n",
    "\n",
    "# plt.axvspan(fwhm_low, fwhm_high, color='gray', alpha=0.5, label=\"FWHM Region\")\n",
    "\n",
    "plt.xlabel(r\"$m_{\\gamma\\gamma}$ [GeV]\")\n",
    "plt.ylabel(\"Events / Bin\")\n",
    "plt.legend()\n",
    "plt.title(\"Diphoton Mass Fit: DSCB vs Gaussian\")\n",
    "plt.show()\n"
   ]
  },
  {
   "cell_type": "markdown",
   "id": "31e1c40e",
   "metadata": {},
   "source": [
    "### complete code "
   ]
  },
  {
   "cell_type": "code",
   "execution_count": null,
   "id": "17adb89c",
   "metadata": {},
   "outputs": [],
   "source": [
    "import numpy as np\n",
    "import matplotlib.pyplot as plt\n",
    "from scipy.optimize import curve_fit\n",
    "import uproot\n",
    "import awkward as ak\n",
    "from vector import Array as awk\n",
    "\n",
    "# Define the DSCB function\n",
    "def double_sided_crystal_ball(x, A, mu, sigma, alpha1, n1, alpha2, n2):\n",
    "    \"\"\"\n",
    "    Double-Sided Crystal Ball function.\n",
    "\n",
    "    Parameters:\n",
    "    - A: Normalization\n",
    "    - mu: Mean\n",
    "    - sigma: Standard deviation\n",
    "    - alpha1: Transition point for left tail\n",
    "    - n1: Power-law parameter for left tail\n",
    "    - alpha2: Transition point for right tail\n",
    "    - n2: Power-law parameter for right tail\n",
    "    \"\"\"\n",
    "    t = (x - mu) / sigma\n",
    "    abs_alpha1, abs_alpha2 = abs(alpha1), abs(alpha2)\n",
    "    \n",
    "    # Gaussian Core\n",
    "    if -abs_alpha1 <= t <= abs_alpha2:\n",
    "        return A * np.exp(-0.5 * t**2)\n",
    "\n",
    "    # Left Power-law Tail\n",
    "    elif t < -abs_alpha1:\n",
    "        return A * ((n1 / abs_alpha1) ** n1) * np.exp(-0.5 * abs_alpha1**2) / ((n1 / abs_alpha1 - abs_alpha1 - t) ** n1)\n",
    "\n",
    "    # Right Power-law Tail\n",
    "    else:\n",
    "        return A * ((n2 / abs_alpha2) ** n2) * np.exp(-0.5 * abs_alpha2**2) / ((n2 / abs_alpha2 - abs_alpha2 + t) ** n2)\n",
    "\n",
    "# Vectorize function for fitting\n",
    "dscb_vectorized = np.vectorize(double_sided_crystal_ball)\n",
    "# Create histogram\n",
    "bins = np.linspace(50, 180, 200)\n",
    "hist, bin_edges = np.histogram(diphoton_mass, bins=bins, density=True)\n",
    "bin_centers = (bin_edges[:-1] + bin_edges[1:]) / 2\n",
    "\n",
    "# Initial guess for fit parameters\n",
    "initial_guess = [0.01, 125, 2.0, 1.5, 2.0, 1.5, 2.0]\n",
    "\n",
    "# Fit the histogram data with DSCB\n",
    "popt, _ = curve_fit(dscb_vectorized, bin_centers, hist, p0=initial_guess, maxfev=5000)\n",
    "\n",
    "# Generate DSCB curve\n",
    "x_fit = np.linspace(50, 180, 200)\n",
    "y_fit = dscb_vectorized(x_fit, *popt)\n",
    "\n",
    "# Calculate FWHM\n",
    "sigma, mu = popt[2], popt[1]\n",
    "fwhm_low, fwhm_high = mu - sigma * np.sqrt(2 * np.log(2)), mu + sigma * np.sqrt(2 * np.log(2))\n",
    "\n",
    "# Plot results\n",
    "plt.figure(figsize=(7, 5))\n",
    "plt.hist(diphoton_mass, bins=bins, density=True, histtype=\"step\", color=\"black\", label=\"Simulation\")\n",
    "plt.plot(x_fit, y_fit, color=\"red\", label=\"Double-Sided Crystal Ball Fit\")\n",
    "# plt.axvspan(fwhm_low, fwhm_high, color='gray', alpha=0.5, label=\"FWHM Region\")\n",
    "\n",
    "plt.xlabel(r\"$m_{\\gamma\\gamma}$ [GeV]\")\n",
    "plt.ylabel(\"Events / Bin\")\n",
    "plt.legend()\n",
    "plt.title(\"Diphoton Mass Fit (Double-Sided Crystal Ball)\")\n",
    "plt.show()"
   ]
  },
  {
   "cell_type": "code",
   "execution_count": null,
   "id": "accd302a",
   "metadata": {},
   "outputs": [],
   "source": []
  },
  {
   "cell_type": "code",
   "execution_count": null,
   "id": "81c67ec6",
   "metadata": {},
   "outputs": [],
   "source": []
  },
  {
   "cell_type": "code",
   "execution_count": null,
   "id": "04f4b1d1",
   "metadata": {},
   "outputs": [],
   "source": []
  },
  {
   "cell_type": "code",
   "execution_count": null,
   "id": "5635734b",
   "metadata": {},
   "outputs": [],
   "source": []
  },
  {
   "cell_type": "code",
   "execution_count": null,
   "id": "28706594",
   "metadata": {},
   "outputs": [],
   "source": []
  },
  {
   "cell_type": "code",
   "execution_count": null,
   "id": "eb3e4d94",
   "metadata": {},
   "outputs": [],
   "source": []
  },
  {
   "cell_type": "markdown",
   "id": "c10db62e",
   "metadata": {},
   "source": [
    "### Resonant background"
   ]
  },
  {
   "cell_type": "markdown",
   "id": "7dea5aa8",
   "metadata": {},
   "source": [
    "For resonant background, we consider all possible Higgs production mechanisms: gluon-gluon129\n",
    "fusion (ggH), vector-boson fusion (VBFH), associated production with a vector boson (VH), top130\n",
    "quarks (ttH), and b-quarks (bbH) where Higgs decays into two photons.131"
   ]
  },
  {
   "cell_type": "code",
   "execution_count": null,
   "id": "a00a00bd",
   "metadata": {},
   "outputs": [],
   "source": []
  }
 ],
 "metadata": {
  "kernelspec": {
   "display_name": "Python 3 (ipykernel)",
   "language": "python",
   "name": "python3"
  },
  "language_info": {
   "codemirror_mode": {
    "name": "ipython",
    "version": 3
   },
   "file_extension": ".py",
   "mimetype": "text/x-python",
   "name": "python",
   "nbconvert_exporter": "python",
   "pygments_lexer": "ipython3",
   "version": "3.9.12"
  }
 },
 "nbformat": 4,
 "nbformat_minor": 5
}
