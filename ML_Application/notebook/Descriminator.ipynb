{
 "cells": [
  {
   "cell_type": "markdown",
   "id": "9140755a-06bb-408b-96c5-b00904115893",
   "metadata": {},
   "source": [
    "1. Add one histogram with the discriminator in the root file which we have. for all regions\n",
    "2. Add it to trees as well.\n",
    "3. \n",
    "Follow the same structure\n",
    "\n",
    "Deadline: Jul 31, 2024"
   ]
  },
  {
   "cell_type": "code",
   "execution_count": null,
   "id": "853b6b3b-f8a7-4f9a-a15d-e38679b399fa",
   "metadata": {},
   "outputs": [],
   "source": []
  }
 ],
 "metadata": {
  "kernelspec": {
   "display_name": "Python [conda env:hhbbgg-awk] *",
   "language": "python",
   "name": "conda-env-hhbbgg-awk-py"
  },
  "language_info": {
   "codemirror_mode": {
    "name": "ipython",
    "version": 3
   },
   "file_extension": ".py",
   "mimetype": "text/x-python",
   "name": "python",
   "nbconvert_exporter": "python",
   "pygments_lexer": "ipython3",
   "version": "3.12.4"
  }
 },
 "nbformat": 4,
 "nbformat_minor": 5
}
