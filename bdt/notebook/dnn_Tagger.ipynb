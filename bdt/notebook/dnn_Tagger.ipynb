{
 "cells": [
  {
   "cell_type": "markdown",
   "id": "9140755a-06bb-408b-96c5-b00904115893",
   "metadata": {},
   "source": [
    "1. Add one histogram with the discriminator in the root file which we have. for all regions\n",
    "2. Add it to trees as well.\n",
    "3. \n",
    "Follow the same structure\n",
    "\n",
    "Deadline: Jul 29, 2024"
   ]
  },
  {
   "cell_type": "code",
   "execution_count": null,
   "id": "853b6b3b-f8a7-4f9a-a15d-e38679b399fa",
   "metadata": {},
   "outputs": [],
   "source": [
    "## Load the saved model "
   ]
  },
  {
   "cell_type": "code",
   "execution_count": 22,
   "id": "20efd461-ff0c-436f-84e5-27f41978a9f9",
   "metadata": {},
   "outputs": [],
   "source": [
    "import pandas as pd\n",
    "import uproot\n",
    "import numpy as np\n",
    "from sklearn.model_selection import train_test_split\n",
    "from sklearn.preprocessing import StandardScaler\n",
    "from sklearn.impute import SimpleImputer\n",
    "from sklearn.metrics import accuracy_score, roc_auc_score, classification_report, roc_curve, auc\n",
    "import matplotlib.pyplot as plt\n",
    "import seaborn as sns\n",
    "from torchsummary import summary\n",
    "\n",
    "import os\n",
    "import torch\n",
    "import torch.nn as nn\n",
    "\n",
    "import torch.optim as optim\n",
    "from torch.utils.data import DataLoader, TensorDataset\n"
   ]
  },
  {
   "cell_type": "code",
   "execution_count": 23,
   "id": "534f464f-3bd5-4fed-93f0-1e1ef859a2b7",
   "metadata": {},
   "outputs": [],
   "source": [
    "# file path\n",
    "files = [\n",
    "    (\"../../outputfiles/hhbbgg_analyzer-trees.root\", \"/GluGluToHH/preselection\"),\n",
    "    (\"../../outputfiles/hhbbgg_analyzer-trees.root\", \"/GGJets/preselection\"),\n",
    "    (\"../../outputfiles/hhbbgg_analyzer-trees.root\", \"/GJetPt20To40/preselection\"),\n",
    "    (\"../../outputfiles/hhbbgg_analyzer-trees.root\", \"/GJetPt40/preselection\")\n",
    "]\n",
    "keys = [\n",
    "#     'dibjet_mass',\n",
    "    # 'diphoton_mass',\n",
    "    'bbgg_mass',\n",
    "    'dibjet_pt',\n",
    "    'diphoton_pt',\n",
    "    'bbgg_pt',\n",
    "    # 'lead_pho_pt',\n",
    "    # 'sublead_pho_pt',\n",
    "    'bbgg_eta',\n",
    "    'bbgg_phi',\n",
    "    'lead_pho_eta',\n",
    "    'lead_pho_phi',\n",
    "    'sublead_pho_eta',\n",
    "    'sublead_pho_phi',\n",
    "    'diphoton_eta',\n",
    "    'diphoton_phi',\n",
    "    'dibjet_eta',\n",
    "    'dibjet_phi',\n",
    "    'lead_bjet_pt',\n",
    "    'sublead_bjet_pt',\n",
    "    'lead_bjet_eta',\n",
    "    'lead_bjet_phi',\n",
    "    'sublead_bjet_eta',\n",
    "    'sublead_bjet_phi',\n",
    "    'sublead_bjet_PNetB',\n",
    "    'lead_bjet_PNetB',\n",
    "    'CosThetaStar_gg',\n",
    "    'CosThetaStar_jj',\n",
    "    'CosThetaStar_CS',\n",
    "    'DeltaR_jg_min',\n",
    "    'pholead_PtOverM',\n",
    "    'phosublead_PtOverM',\n",
    "    'FirstJet_PtOverM',\n",
    "    'SecondJet_PtOverM',\n",
    "    # 'lead_pt_over_diphoton_mass',\n",
    "    # 'sublead_pt_over_diphoton_mass',\n",
    "    # 'lead_pt_over_dibjet_mass',\n",
    "    # 'sublead_pt_over_dibjet_mass',\n",
    "    'diphoton_bbgg_mass',\n",
    "    'dibjet_bbgg_mass',\n",
    "    # 'weight_preselection',\n",
    "    'weight_preselection',\n",
    "]"
   ]
  },
  {
   "cell_type": "code",
   "execution_count": 24,
   "id": "651f7a72-5333-4c7c-9815-07ddbf632a63",
   "metadata": {},
   "outputs": [
    {
     "name": "stdout",
     "output_type": "stream",
     "text": [
      "singal df (131972, 33)\n",
      "background_df_1  (46802, 33)\n",
      "background_df_2 (9867, 33)\n",
      "background_df_3  (41966, 33)\n",
      "background_df (98635, 33)\n",
      "combined dataframe (230607, 34)\n"
     ]
    }
   ],
   "source": [
    "dfs = {}\n",
    "\n",
    "# Loop through each file and load the corresponding dataframe\n",
    "for file, key in files:\n",
    "    with uproot.open(file) as f:\n",
    "        dfs[key] = f[key].arrays(keys, library=\"pd\")\n",
    "\n",
    "signal_df = dfs[\"/GluGluToHH/preselection\"]\n",
    "background_df_1 = dfs[\"/GGJets/preselection\"]\n",
    "background_df_2 = dfs[\"/GJetPt20To40/preselection\"]\n",
    "background_df_3 = dfs[\"/GJetPt40/preselection\"]\n",
    "\n",
    "print('singal df', signal_df.shape)\n",
    "print('background_df_1 ', background_df_1.shape)\n",
    "print('background_df_2', background_df_2.shape)\n",
    "print('background_df_3 ', background_df_3.shape)\n",
    "\n",
    "background_df = pd.concat([background_df_1, background_df_2, background_df_3], ignore_index=True)\n",
    "print('background_df', background_df.shape)\n",
    "\n",
    "signal_df['label'] = 1\n",
    "background_df['label'] = 0\n",
    "\n",
    "combined_df = pd.concat([signal_df, background_df], ignore_index=True)\n",
    "print('combined dataframe', combined_df.shape)\n",
    "\n",
    "features = [\n",
    "    # 'diphoton_mass',\n",
    "#     'dibjet_mass',\n",
    "    # 'lead_pho_pt',\n",
    "    # 'sublead_pho_pt',\n",
    "    'bbgg_eta',\n",
    "    'bbgg_phi',\n",
    "    'bbgg_mass',\n",
    "    'lead_pho_eta',\n",
    "    'lead_pho_phi',\n",
    "    'sublead_pho_eta',\n",
    "    'sublead_pho_phi',\n",
    "    'diphoton_eta',\n",
    "    'diphoton_phi',\n",
    "    'dibjet_eta',\n",
    "    'dibjet_phi',\n",
    "    'lead_bjet_pt',\n",
    "    'sublead_bjet_pt',\n",
    "    'lead_bjet_eta',\n",
    "    'lead_bjet_phi',\n",
    "    'sublead_bjet_eta',\n",
    "    'sublead_bjet_phi',\n",
    "    'sublead_bjet_PNetB',\n",
    "    'lead_bjet_PNetB',\n",
    "    'CosThetaStar_gg',\n",
    "    'CosThetaStar_jj',\n",
    "    'CosThetaStar_CS',\n",
    "    'DeltaR_jg_min',\n",
    "    'pholead_PtOverM',\n",
    "    'phosublead_PtOverM',\n",
    "    'FirstJet_PtOverM',\n",
    "    'SecondJet_PtOverM',\n",
    "    # 'lead_pt_over_diphoton_mass',\n",
    "    # 'sublead_pt_over_diphoton_mass',\n",
    "    # 'lead_pt_over_dibjet_mass',\n",
    "    # 'sublead_pt_over_dibjet_mass',\n",
    "    'diphoton_bbgg_mass',\n",
    "    'dibjet_bbgg_mass',\n",
    "]"
   ]
  },
  {
   "cell_type": "code",
   "execution_count": 25,
   "id": "f05fa8f4-f7da-4a2c-a66f-37a395aa6e5e",
   "metadata": {},
   "outputs": [
    {
     "name": "stdout",
     "output_type": "stream",
     "text": [
      "(230607,)\n"
     ]
    }
   ],
   "source": [
    "X = combined_df[features]\n",
    "y = combined_df['label']\n",
    "weight = combined_df['weight_preselection']\n",
    "print(weight.shape)\n",
    "\n",
    "imputer = SimpleImputer(strategy='mean')\n",
    "X_imputed = imputer.fit_transform(X)\n",
    "\n",
    "scaler = StandardScaler()\n",
    "X_scaled = scaler.fit_transform(X_imputed)\n",
    "\n",
    "X_train, X_test, y_train, y_test = train_test_split(combined_df[features], combined_df['label'], test_size=0.2, random_state=42, stratify=combined_df['label'])\n",
    "\n"
   ]
  },
  {
   "cell_type": "code",
   "execution_count": 26,
   "id": "f5f29368-f285-4e1c-a3fa-252f79fa1e7d",
   "metadata": {},
   "outputs": [],
   "source": [
    "# Extract the weights for train and test datasets\n",
    "X_train_weights = combined_df.loc[X_train.index, 'weight_preselection']\n",
    "X_test_weights = combined_df.loc[X_test.index, 'weight_preselection']\n",
    "\n",
    "# Impute and scale the features\n",
    "imputer = SimpleImputer(strategy='mean')\n",
    "X_train_imputed = imputer.fit_transform(X_train)\n",
    "X_test_imputed = imputer.transform(X_test)\n",
    "\n",
    "scaler = StandardScaler()\n",
    "X_train_scaled = scaler.fit_transform(X_train_imputed)\n",
    "X_test_scaled = scaler.transform(X_test_imputed)\n",
    "\n",
    "# Convert to torch tensors\n",
    "X_train_tensor = torch.tensor(X_train_scaled, dtype=torch.float32)\n",
    "X_test_tensor = torch.tensor(X_test_scaled, dtype=torch.float32)\n",
    "y_train_tensor = torch.tensor(y_train.values, dtype=torch.long)\n",
    "y_test_tensor = torch.tensor(y_test.values, dtype=torch.long)\n",
    "X_train_weights_tensor = torch.tensor(X_train_weights.values, dtype=torch.float32)\n",
    "X_test_weights_tensor = torch.tensor(X_test_weights.values, dtype=torch.float32)\n",
    "\n",
    "# Create TensorDataset and DataLoader\n",
    "train_data = TensorDataset(X_train_tensor, y_train_tensor, X_train_weights_tensor)\n",
    "test_data = TensorDataset(X_test_tensor, y_test_tensor, X_test_weights_tensor)\n",
    "\n",
    "train_loader = DataLoader(train_data, batch_size=32, shuffle=True)\n",
    "test_loader = DataLoader(test_data, batch_size=32, shuffle=False)"
   ]
  },
  {
   "cell_type": "code",
   "execution_count": 27,
   "id": "95fa4831-4dbb-4131-bd7f-ad6ec3b1daae",
   "metadata": {},
   "outputs": [],
   "source": [
    "class SimpleDNN(nn.Module):\n",
    "    def __init__(self, input_dim):\n",
    "        super(SimpleDNN, self).__init__()\n",
    "        self.fc1 = nn.Linear(input_dim, 64)\n",
    "        self.fc2 = nn.Linear(64, 32)\n",
    "        self.fc3 = nn.Linear(32, 1)\n",
    "        self.relu = nn.ReLU()\n",
    "        self.sigmoid = nn.Sigmoid()\n",
    "\n",
    "    def forward(self, x):\n",
    "        x = self.relu(self.fc1(x))\n",
    "        x = self.relu(self.fc2(x))\n",
    "        x = self.sigmoid(self.fc3(x))\n",
    "        return x\n"
   ]
  },
  {
   "cell_type": "code",
   "execution_count": 28,
   "id": "6db4c4fc-a44e-4d03-bdca-3afcda068fbf",
   "metadata": {},
   "outputs": [],
   "source": [
    "# Initialize the model, loss function, and optimizer\n",
    "input_dim = X_train_scaled.shape[1]\n",
    "model = SimpleDNN(input_dim)"
   ]
  },
  {
   "cell_type": "code",
   "execution_count": 29,
   "id": "eb9a51c4-c731-4a49-9b41-04489a4c77f4",
   "metadata": {},
   "outputs": [
    {
     "data": {
      "text/plain": [
       "SimpleDNN(\n",
       "  (fc1): Linear(in_features=29, out_features=64, bias=True)\n",
       "  (fc2): Linear(in_features=64, out_features=32, bias=True)\n",
       "  (fc3): Linear(in_features=32, out_features=1, bias=True)\n",
       "  (relu): ReLU()\n",
       "  (sigmoid): Sigmoid()\n",
       ")"
      ]
     },
     "execution_count": 29,
     "metadata": {},
     "output_type": "execute_result"
    }
   ],
   "source": [
    "# Load the saved model weights\n",
    "model.load_state_dict(torch.load('preselection_simple_dnn_model.pth'))\n",
    "model.eval()"
   ]
  },
  {
   "cell_type": "code",
   "execution_count": 30,
   "id": "c9f08b28-5c55-4913-9c86-e7916b6294cc",
   "metadata": {},
   "outputs": [],
   "source": [
    "# Define a function to get predictions from the PyTorch model\n",
    "def get_predictions(loader, model):\n",
    "    model.eval()\n",
    "    all_preds = []\n",
    "    all_labels = []\n",
    "    with torch.no_grad():\n",
    "        for inputs, labels, _ in loader:\n",
    "            outputs = model(inputs)\n",
    "            outputs = outputs.squeeze()\n",
    "            all_preds.extend(outputs.cpu().numpy())\n",
    "            all_labels.extend(labels.cpu().numpy())\n",
    "    return np.array(all_preds), np.array(all_labels)\n",
    "\n",
    "# Get predictions for training and test data\n",
    "train_preds, train_true = get_predictions(train_loader, model)\n",
    "test_preds, test_true = get_predictions(test_loader, model)"
   ]
  },
  {
   "cell_type": "code",
   "execution_count": 31,
   "id": "09f6c2bd-c6d5-4a52-9bad-309c0feea1ea",
   "metadata": {},
   "outputs": [
    {
     "data": {
      "image/png": "[encoded data removed]",
      "text/plain": [
       "<Figure size 1000x800 with 1 Axes>"
      ]
     },
     "metadata": {},
     "output_type": "display_data"
    }
   ],
   "source": [
    "# Convert weights tensors to NumPy arrays\n",
    "X_train_weights_np = X_train_weights_tensor.numpy()\n",
    "X_test_weights_np = X_test_weights_tensor.numpy()\n",
    "\n",
    "# Define bins\n",
    "bins = np.linspace(0, 1, 31)  \n",
    "\n",
    "# Calculate histograms and bins for training data with weights\n",
    "train_hist_s, _ = np.histogram(train_preds[train_true == 1], bins=bins, density=True, weights=X_train_weights_np[train_true == 1])\n",
    "train_hist_b, _ = np.histogram(train_preds[train_true == 0], bins=bins, density=True, weights=X_train_weights_np[train_true == 0])\n",
    "\n",
    "# Calculate bin centers\n",
    "bin_centers = (bins[:-1] + bins[1:]) / 2\n",
    "\n",
    "# Plot histograms for training data\n",
    "plt.figure(figsize=(10, 8))\n",
    "plt.hist(train_preds[train_true == 1], bins=bins, color='blue', alpha=0.5, label='Signal (Train)', density=True, weights=X_train_weights_np[train_true == 1])\n",
    "plt.hist(train_preds[train_true == 0], bins=bins, color='red', alpha=0.5, label='Background (Train)', density=True, weights=X_train_weights_np[train_true == 0])\n",
    "\n",
    "# Calculate histograms for test data\n",
    "test_hist_s, _ = np.histogram(test_preds[test_true == 1], bins=bins, density=True, weights=X_test_weights_np[test_true == 1])\n",
    "test_hist_b, _ = np.histogram(test_preds[test_true == 0], bins=bins, density=True, weights=X_test_weights_np[test_true == 0])\n",
    "\n",
    "# Plot scatter points for test data\n",
    "plt.scatter(bin_centers, test_hist_s, color='blue', alpha=0.7, label='Signal (Test)', marker='o', s=30, edgecolor='k')\n",
    "plt.scatter(bin_centers, test_hist_b, color='red', alpha=0.7, label='Background (Test)', marker='o', s=30, edgecolor='k')\n",
    "\n",
    "# Add background colors\n",
    "plt.axvspan(0, 0.5, color='red', alpha=0.1)\n",
    "plt.axvspan(0.5, 1, color='blue', alpha=0.1)\n",
    "\n",
    "plt.axvline(0.5, color='k', linestyle='--')\n",
    "plt.xlabel('Classifier output')\n",
    "plt.ylabel('Normalized Yields')\n",
    "plt.xlim(0, 1)\n",
    "plt.legend()\n",
    "plt.title('Classifier Output with PyTorch')\n",
    "\n",
    "# Save and display the plot\n",
    "# plt.savefig(\"../bdtplots/dnn/DNN_srbbgg_classifier_output_plot.png\")\n",
    "# plt.savefig(\"../bdtplots/dnn/DNN_srbbgg_classifier_output_plot.pdf\")\n",
    "plt.tight_layout()\n",
    "plt.show()"
   ]
  },
  {
   "cell_type": "markdown",
   "id": "75735be8-f9fa-4031-8698-b3fc206a9833",
   "metadata": {},
   "source": [
    "# DNN Classifier plot for each dataset"
   ]
  },
  {
   "cell_type": "code",
   "execution_count": null,
   "id": "6d53ffff-c800-48ca-af93-2a52e58e0f79",
   "metadata": {},
   "outputs": [],
   "source": [
    "def load_data(files, keys):\n",
    "    datasets = []\n",
    "    for file, tree in files:\n",
    "        with uproot.open(file) as f:\n",
    "            tree = f[tree]\n",
    "            features = tree.arrays(keys, library=\"np\")\n",
    "            data = np.column_stack([features[key] for key in keys if key != 'weight_preselection'])\n",
    "            weights = features['weight_preselection']\n",
    "            datasets.append((data, weights, file, tree))\n",
    "    return datasets"
   ]
  },
  {
   "cell_type": "code",
   "execution_count": null,
   "id": "277f74ca-c005-4c86-817c-3ff09702ea2b",
   "metadata": {},
   "outputs": [],
   "source": [
    "# Example dataset list\n",
    "files = [\n",
    "    (\"../../outputfiles/hhbbgg_analyzer-trees.root\", \"/ttHToGG/preselection\"),\n",
    "    (\"../../outputfiles/hhbbgg_analyzer-trees.root\", \"/VBFHToGG/preselection\"),\n",
    "    (\"../../outputfiles/hhbbgg_analyzer-trees.root\", \"/VHToGG/preselection\"),\n",
    "    (\"../../outputfiles/hhbbgg_analyzer-trees.root\", \"/GluGluToHH/preselection\"),\n",
    "    (\"../../outputfiles/hhbbgg_analyzer-trees.root\", \"/GluGluHToGG/preselection\"),\n",
    "    (\"../../outputfiles/hhbbgg_analyzer-trees.root\", \"/Data_EraG/preselection\"),\n",
    "    (\"../../outputfiles/hhbbgg_analyzer-trees.root\", \"/Data_EraF/preselection\"),\n",
    "    (\"../../outputfiles/hhbbgg_analyzer-trees.root\", \"/Data_EraE/preselection\")\n",
    "]"
   ]
  },
  {
   "cell_type": "code",
   "execution_count": null,
   "id": "d2776b1b-97f5-40a1-87cb-050b183e3620",
   "metadata": {},
   "outputs": [],
   "source": [
    "# Load data\n",
    "datasets = load_data(files, keys)\n"
   ]
  },
  {
   "cell_type": "code",
   "execution_count": null,
   "id": "67350190-4d0e-4772-957d-40e3dad2d3a0",
   "metadata": {},
   "outputs": [],
   "source": [
    "# Define the model structure (same as the saved model)\n",
    "class SimpleNN(nn.Module):\n",
    "    def __init__(self, input_dim):\n",
    "        super(SimpleNN, self).__init__()\n",
    "        self.fc1 = nn.Linear(input_dim, 64)\n",
    "        self.fc2 = nn.Linear(64, 32)\n",
    "        self.fc3 = nn.Linear(32, 1)\n",
    "        self.sigmoid = nn.Sigmoid()\n",
    "\n",
    "    def forward(self, x):\n",
    "        x = torch.relu(self.fc1(x))\n",
    "        x = torch.relu(self.fc2(x))\n",
    "        x = self.sigmoid(self.fc3(x))\n",
    "        return x\n"
   ]
  },
  {
   "cell_type": "code",
   "execution_count": null,
   "id": "8c9aeeb0-5ef7-4ff4-a2e4-5b29941c902b",
   "metadata": {},
   "outputs": [],
   "source": [
    "# Load the saved model\n",
    "input_dim = len(keys) -1  # exclude the weight column\n",
    "model = SimpleNN(input_dim=input_dim)\n",
    "model.load_state_dict(torch.load('preselection_simple_dnn_model.pth'))\n",
    "model.eval()"
   ]
  },
  {
   "cell_type": "code",
   "execution_count": null,
   "id": "2e455e79-70ce-49bd-9f06-7757846ac706",
   "metadata": {},
   "outputs": [],
   "source": [
    "import torch\n",
    "class SimpleNN(torch.nn.Module):\n",
    "    def __init__(self, input_dim):\n",
    "        super(SimpleNN, self).__init__()\n",
    "        self.fc1 = torch.nn.Linear(input_dim, 64)\n",
    "        self.fc2 = torch.nn.Linear(64, 32)\n",
    "        self.fc3 = torch.nn.Linear(32, 1)\n",
    "\n",
    "    def forward(self, x):\n",
    "        x = torch.relu(self.fc1(x))\n",
    "        x = torch.relu(self.fc2(x))\n",
    "        x = torch.sigmoid(self.fc3(x))\n",
    "        return x\n",
    "\n",
    "input_dim = 29  # Correct the input dimension\n",
    "\n",
    "# Assuming 'keys' is defined earlier in the notebook and contains the feature names\n",
    "input_dim = len(keys) - 1  # exclude the weight column\n",
    "print(f\"Expected input dimension: {input_dim}\")\n",
    "\n",
    "# Load the saved model with the correct input dimension\n",
    "model = SimpleNN(input_dim=input_dim)\n",
    "try:\n",
    "    model.load_state_dict(torch.load('preselection_simple_dnn_model.pth'))\n",
    "    print(\"Model loaded successfully\")\n",
    "except RuntimeError as e:\n",
    "    print(f\"Error loading model: {e}\")\n",
    "    print(\"Please ensure the input dimensions match the saved model's dimensions.\")\n",
    "\n",
    "model.eval()\n"
   ]
  },
  {
   "cell_type": "code",
   "execution_count": null,
   "id": "6ccfda7f-5004-45ba-bf4a-5a8a60d81a80",
   "metadata": {},
   "outputs": [],
   "source": [
    "saved_state_dict = torch.load('preselection_simple_dnn_model.pth')\n",
    "for k, v in saved_state_dict.items():\n",
    "    print(f\"{k}: {v.shape}\")"
   ]
  },
  {
   "cell_type": "code",
   "execution_count": null,
   "id": "c8acf9c8-bf23-4f3b-957e-6be3a608a983",
   "metadata": {},
   "outputs": [],
   "source": [
    "\n",
    "# Evaluate the model for each dataset\n",
    "for data, weights, filename, treename in datasets:\n",
    "    # Convert to PyTorch tensors\n",
    "    X = torch.tensor(data, dtype=torch.float32)\n",
    "    w = torch.tensor(weights, dtype=torch.float32)\n",
    "\n",
    "    # Create DataLoader\n",
    "    dataset = TensorDataset(X, w)\n",
    "    data_loader = DataLoader(dataset, batch_size=64, shuffle=False)\n",
    "\n",
    "    # Collect predictions\n",
    "    all_preds = []\n",
    "    all_weights = []\n",
    "\n",
    "    with torch.no_grad():\n",
    "        for X_batch, w_batch in data_loader:\n",
    "            outputs = model(X_batch).squeeze()\n",
    "            all_preds.append(outputs.numpy())\n",
    "            all_weights.append(w_batch.numpy())\n",
    "\n",
    "    all_preds = np.concatenate(all_preds)\n",
    "    all_weights = np.concatenate(all_weights)\n",
    "\n",
    "    # Visualization\n",
    "    bins = np.linspace(0, 1, 50)\n",
    "\n",
    "    plt.figure(figsize=(10, 7))\n",
    "\n",
    "    plt.hist(all_preds, bins=bins, color='blue', alpha=0.5, density=True, weights=all_weights)\n",
    "\n",
    "    plt.axvspan(0, 0.5, color='red', alpha=0.1)\n",
    "    plt.axvspan(0.5, 1, color='blue', alpha=0.1)\n",
    "\n",
    "    plt.axvline(0.5, color='k', linestyle='--')\n",
    "    plt.xlabel('Classifier output')\n",
    "    plt.ylabel('Normalized Yields')\n",
    "    plt.xlim(0, 1)\n",
    "    plt.title(f'Classifier Output for {treename} in {filename}')\n",
    "\n",
    "    plt.tight_layout()\n",
    "    plt.show()\n"
   ]
  },
  {
   "cell_type": "markdown",
   "id": "095c15de-06c8-4145-9996-09620e0ca77d",
   "metadata": {},
   "source": [
    "# Testing "
   ]
  },
  {
   "cell_type": "code",
   "execution_count": 32,
   "id": "50778bba-8746-4ad1-b96d-799fdb5e2f5e",
   "metadata": {},
   "outputs": [
    {
     "name": "stderr",
     "output_type": "stream",
     "text": [
      "/home/shivam-raj/miniforge3/envs/hhbbgg-awk/lib/python3.12/site-packages/numpy/lib/histograms.py:885: RuntimeWarning: invalid value encountered in divide\n",
      "  return n/db/n.sum(), bin_edges\n"
     ]
    },
    {
     "data": {
      "image/png": "[encoded data removed]",
      "text/plain": [
       "<Figure size 1000x800 with 1 Axes>"
      ]
     },
     "metadata": {},
     "output_type": "display_data"
    }
   ],
   "source": [
    "# Choose dataset to test\n",
    "test_df = signal_df\n",
    "\n",
    "# Prepare the data\n",
    "X_test_single = test_df[features]\n",
    "y_test_single = test_df['label']\n",
    "weight_test_single = test_df['weight_preselection']\n",
    "\n",
    "# Impute and scale the features\n",
    "X_test_single_imputed = imputer.transform(X_test_single)\n",
    "X_test_single_scaled = scaler.transform(X_test_single_imputed)\n",
    "\n",
    "# Convert to torch tensors\n",
    "X_test_single_tensor = torch.tensor(X_test_single_scaled, dtype=torch.float32)\n",
    "y_test_single_tensor = torch.tensor(y_test_single.values, dtype=torch.long)\n",
    "X_test_single_weights_tensor = torch.tensor(weight_test_single.values, dtype=torch.float32)\n",
    "\n",
    "# Create DataLoader\n",
    "single_test_data = TensorDataset(X_test_single_tensor, y_test_single_tensor, X_test_single_weights_tensor)\n",
    "single_test_loader = DataLoader(single_test_data, batch_size=32, shuffle=False)\n",
    "\n",
    "# Get predictions\n",
    "single_test_preds, single_test_true = get_predictions(single_test_loader, model)\n",
    "\n",
    "# Convert weights tensors to NumPy arrays\n",
    "X_test_single_weights_np = X_test_single_weights_tensor.numpy()\n",
    "\n",
    "# Define bins\n",
    "bins = np.linspace(0, 1, 31)\n",
    "\n",
    "# Calculate histograms and bins for single test data with weights\n",
    "hist_s, _ = np.histogram(single_test_preds[single_test_true == 1], bins=bins, density=True, weights=X_test_single_weights_np[single_test_true == 1])\n",
    "hist_b, _ = np.histogram(single_test_preds[single_test_true == 0], bins=bins, density=True, weights=X_test_single_weights_np[single_test_true == 0])\n",
    "\n",
    "# Calculate bin centers\n",
    "bin_centers = (bins[:-1] + bins[1:]) / 2\n",
    "\n",
    "# Plot histograms for single test data\n",
    "plt.figure(figsize=(10, 8))\n",
    "plt.hist(single_test_preds[single_test_true == 1], bins=bins, color='blue', alpha=0.5, label='Signal', density=True, weights=X_test_single_weights_np[single_test_true == 1])\n",
    "plt.hist(single_test_preds[single_test_true == 0], bins=bins, color='red', alpha=0.5, label='Background', density=True, weights=X_test_single_weights_np[single_test_true == 0])\n",
    "\n",
    "# Add background colors\n",
    "plt.axvspan(0, 0.5, color='red', alpha=0.1)\n",
    "plt.axvspan(0.5, 1, color='blue', alpha=0.1)\n",
    "\n",
    "plt.axvline(0.5, color='k', linestyle='--')\n",
    "plt.xlabel('Classifier output')\n",
    "plt.ylabel('Normalized Yields')\n",
    "plt.xlim(0, 1)\n",
    "plt.legend()\n",
    "plt.title('Classifier Output for Test Dataset')\n",
    "\n",
    "# Save and display the plot\n",
    "# plt.savefig(\"classifier_output_test_dataset.png\")\n",
    "plt.tight_layout()\n",
    "plt.show()\n"
   ]
  },
  {
   "cell_type": "code",
   "execution_count": null,
   "id": "e90447a0-66ad-4a63-b813-dea9201c71ea",
   "metadata": {},
   "outputs": [],
   "source": []
  },
  {
   "cell_type": "code",
   "execution_count": null,
   "id": "7a618157-34c3-49bb-92ce-45d6b7fe270e",
   "metadata": {},
   "outputs": [],
   "source": []
  },
  {
   "cell_type": "code",
   "execution_count": null,
   "id": "9ad56522-459a-431a-9853-a543dbb7dbde",
   "metadata": {},
   "outputs": [],
   "source": []
  }
 ],
 "metadata": {
  "kernelspec": {
   "display_name": "Python [conda env:hhbbgg-awk] *",
   "language": "python",
   "name": "conda-env-hhbbgg-awk-py"
  },
  "language_info": {
   "codemirror_mode": {
    "name": "ipython",
    "version": 3
   },
   "file_extension": ".py",
   "mimetype": "text/x-python",
   "name": "python",
   "nbconvert_exporter": "python",
   "pygments_lexer": "ipython3",
   "version": "3.12.4"
  }
 },
 "nbformat": 4,
 "nbformat_minor": 5
}
