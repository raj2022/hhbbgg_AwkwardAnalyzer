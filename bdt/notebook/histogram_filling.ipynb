{
 "cells": [
  {
   "cell_type": "code",
   "execution_count": 8,
   "id": "d7623b45-2011-44ee-8b47-21ecca5f945f",
   "metadata": {},
   "outputs": [
    {
     "name": "stdout",
     "output_type": "stream",
     "text": [
      "Signal DataFrame shape: (46802, 34)\n"
     ]
    },
    {
     "data": {
      "text/plain": [
       "SimpleDNN(\n",
       "  (fc1): Linear(in_features=29, out_features=64, bias=True)\n",
       "  (fc2): Linear(in_features=64, out_features=32, bias=True)\n",
       "  (fc3): Linear(in_features=32, out_features=1, bias=True)\n",
       "  (relu): ReLU()\n",
       "  (sigmoid): Sigmoid()\n",
       ")"
      ]
     },
     "execution_count": 8,
     "metadata": {},
     "output_type": "execute_result"
    }
   ],
   "source": [
    "import pandas as pd\n",
    "import uproot\n",
    "import numpy as np\n",
    "from sklearn.model_selection import train_test_split\n",
    "from sklearn.preprocessing import StandardScaler\n",
    "from sklearn.impute import SimpleImputer\n",
    "from sklearn.metrics import accuracy_score, roc_auc_score, classification_report, roc_curve, auc\n",
    "import matplotlib.pyplot as plt\n",
    "import seaborn as sns\n",
    "from torchsummary import summary\n",
    "import os\n",
    "import torch\n",
    "import torch.nn as nn\n",
    "import torch.optim as optim\n",
    "from torch.utils.data import DataLoader, TensorDataset\n",
    "\n",
    "# Load the data\n",
    "file = \"../../outputfiles/hhbbgg_analyzer-trees.root\"\n",
    "key = \"/GGJets/preselection\"\n",
    "\n",
    "keys = [\n",
    "    'bbgg_mass', 'dibjet_pt', 'diphoton_pt', 'bbgg_pt', 'bbgg_eta', 'bbgg_phi',\n",
    "    'lead_pho_eta', 'lead_pho_phi', 'sublead_pho_eta', 'sublead_pho_phi',\n",
    "    'diphoton_eta', 'diphoton_phi', 'dibjet_eta', 'dibjet_phi',\n",
    "    'lead_bjet_pt', 'sublead_bjet_pt', 'lead_bjet_eta', 'lead_bjet_phi',\n",
    "    'sublead_bjet_eta', 'sublead_bjet_phi', 'sublead_bjet_PNetB',\n",
    "    'lead_bjet_PNetB', 'CosThetaStar_gg', 'CosThetaStar_jj', 'CosThetaStar_CS',\n",
    "    'DeltaR_jg_min', 'pholead_PtOverM', 'phosublead_PtOverM', 'FirstJet_PtOverM',\n",
    "    'SecondJet_PtOverM', 'diphoton_bbgg_mass', 'dibjet_bbgg_mass', 'weight_preselection'\n",
    "]\n",
    "\n",
    "with uproot.open(file) as f:\n",
    "    signal_df = f[key].arrays(keys, library=\"pd\")\n",
    "\n",
    "signal_df['label'] = 1\n",
    "print('Signal DataFrame shape:', signal_df.shape)\n",
    "\n",
    "# Features and labels\n",
    "features = [\n",
    "    'bbgg_eta', 'bbgg_phi', 'bbgg_mass', 'lead_pho_eta', 'lead_pho_phi',\n",
    "    'sublead_pho_eta', 'sublead_pho_phi', 'diphoton_eta', 'diphoton_phi',\n",
    "    'dibjet_eta', 'dibjet_phi', 'lead_bjet_pt', 'sublead_bjet_pt',\n",
    "    'lead_bjet_eta', 'lead_bjet_phi', 'sublead_bjet_eta', 'sublead_bjet_phi',\n",
    "    'sublead_bjet_PNetB', 'lead_bjet_PNetB', 'CosThetaStar_gg',\n",
    "    'CosThetaStar_jj', 'CosThetaStar_CS', 'DeltaR_jg_min', 'pholead_PtOverM',\n",
    "    'phosublead_PtOverM', 'FirstJet_PtOverM', 'SecondJet_PtOverM',\n",
    "    'diphoton_bbgg_mass', 'dibjet_bbgg_mass'\n",
    "]\n",
    "X_signal = signal_df[features]\n",
    "y_signal = signal_df['label']\n",
    "weight_signal = signal_df['weight_preselection']\n",
    "\n",
    "# Impute and scale the features\n",
    "imputer = SimpleImputer(strategy='mean')\n",
    "X_signal_imputed = imputer.fit_transform(X_signal)\n",
    "scaler = StandardScaler()\n",
    "X_signal_scaled = scaler.fit_transform(X_signal_imputed)\n",
    "\n",
    "# Convert to torch tensors\n",
    "X_signal_tensor = torch.tensor(X_signal_scaled, dtype=torch.float32)\n",
    "y_signal_tensor = torch.tensor(y_signal.values, dtype=torch.long)\n",
    "weight_signal_tensor = torch.tensor(weight_signal.values, dtype=torch.float32)\n",
    "\n",
    "# Create TensorDataset and DataLoader\n",
    "signal_data = TensorDataset(X_signal_tensor, y_signal_tensor, weight_signal_tensor)\n",
    "signal_loader = DataLoader(signal_data, batch_size=32, shuffle=False)\n",
    "\n",
    "# Define the model\n",
    "class SimpleDNN(nn.Module):\n",
    "    def __init__(self, input_dim):\n",
    "        super(SimpleDNN, self).__init__()\n",
    "        self.fc1 = nn.Linear(input_dim, 64)\n",
    "        self.fc2 = nn.Linear(64, 32)\n",
    "        self.fc3 = nn.Linear(32, 1)\n",
    "        self.relu = nn.ReLU()\n",
    "        self.sigmoid = nn.Sigmoid()\n",
    "\n",
    "    def forward(self, x):\n",
    "        x = self.relu(self.fc1(x))\n",
    "        x = self.relu(self.fc2(x))\n",
    "        x = self.sigmoid(self.fc3(x))\n",
    "        return x\n",
    "\n",
    "input_dim = X_signal_scaled.shape[1]\n",
    "model = SimpleDNN(input_dim)\n",
    "model.load_state_dict(torch.load('preselection_simple_dnn_model.pth'))\n",
    "model.eval()\n",
    "\n",
    "# # Define a function to get predictions from the PyTorch model\n",
    "# def get_predictions(loader, model):\n",
    "#     model.eval()\n",
    "#     all_preds = []\n",
    "#     all_labels = []\n",
    "#     with torch.no_grad():\n",
    "#         for inputs, labels, _ in loader:\n",
    "#             outputs = model(inputs)\n",
    "#             outputs = outputs.squeeze()\n",
    "#             all_preds.extend(outputs.cpu().numpy())\n",
    "#             all_labels.extend(labels.cpu().numpy())\n",
    "#     return np.array(all_preds), np.array(all_labels)\n",
    "\n",
    "# # Get predictions for the signal data\n",
    "# signal_preds, signal_true = get_predictions(signal_loader, model)\n"
   ]
  },
  {
   "cell_type": "code",
   "execution_count": 9,
   "id": "f0a88fae-b30f-48b9-9c67-33acf6736b30",
   "metadata": {},
   "outputs": [],
   "source": [
    "# Define a function to get predictions from the PyTorch model\n",
    "def get_predictions(loader, model):\n",
    "    model.eval()\n",
    "    all_preds = []\n",
    "    all_labels = []\n",
    "    all_weights = []\n",
    "    with torch.no_grad():\n",
    "        for inputs, labels, weights in loader:\n",
    "            outputs = model(inputs)\n",
    "            outputs = outputs.squeeze()\n",
    "            all_preds.extend(outputs.cpu().numpy())\n",
    "            all_labels.extend(labels.cpu().numpy())\n",
    "            all_weights.extend(weights.cpu().numpy())\n",
    "    return np.array(all_preds), np.array(all_labels), np.array(all_weights)\n"
   ]
  },
  {
   "cell_type": "code",
   "execution_count": 10,
   "id": "a5172f42-1ae8-4242-a9fa-70c60e1b8123",
   "metadata": {},
   "outputs": [],
   "source": [
    "# Get predictions for the signal data\n",
    "signal_preds, signal_true, signal_weights = get_predictions(signal_loader, model)\n"
   ]
  },
  {
   "cell_type": "code",
   "execution_count": 12,
   "id": "eaa8f72e-9fb7-4682-8763-3132e3b89973",
   "metadata": {},
   "outputs": [
    {
     "data": {
      "image/png": "[encoded data removed]",
      "text/plain": [
       "<Figure size 1000x800 with 1 Axes>"
      ]
     },
     "metadata": {},
     "output_type": "display_data"
    }
   ],
   "source": [
    "# Evaluate performance\n",
    "accuracy = accuracy_score(signal_true, (signal_preds > 0.5).astype(int))\n",
    "roc_auc = roc_auc_score(signal_true, signal_preds)\n",
    "report = classification_report(signal_true, (signal_preds > 0.5).astype(int))\n",
    "\n",
    "print(f\"Accuracy: {accuracy:.4f}\")\n",
    "print(f\"ROC AUC Score: {roc_auc:.4f}\")\n",
    "print(\"Classification Report:\")\n",
    "print(report)\n",
    "\n",
    "# Calculate bin centers\n",
    "bin_centers = (bins[:-1] + bins[1:]) / 2\n",
    "\n",
    "# Plot histograms for signal data\n",
    "plt.figure(figsize=(10, 8))\n",
    "plt.hist(signal_preds[signal_true == 1], bins=bins, color='blue', alpha=0.5, label='Signal', density=True, weights=weight_signal_tensor.numpy()[signal_true == 1])\n",
    "\n",
    "# Add background colors\n",
    "plt.axvspan(0, 0.5, color='red', alpha=0.1)\n",
    "plt.axvspan(0.5, 1, color='blue', alpha=0.1)\n",
    "\n",
    "plt.axvline(0.5, color='k', linestyle='--')\n",
    "plt.xlabel('Classifier output')\n",
    "plt.ylabel('Normalized Yields')\n",
    "plt.xlim(0, 1)\n",
    "plt.legend()\n",
    "plt.title('Classifier Output for Signal Data')\n",
    "\n",
    "# Save and display the plot\n",
    "# plt.savefig(\"../bdtplots/dnn/DNN_signal_classifier_output_plot.png\")\n",
    "# plt.savefig(\"../bdtplots/dnn/DNN_signal_classifier_output_plot.pdf\")\n",
    "plt.tight_layout()\n",
    "plt.show()\n"
   ]
  },
  {
   "cell_type": "code",
   "execution_count": 14,
   "id": "aca0c413-a99a-42e4-9477-949fee3ac6c8",
   "metadata": {},
   "outputs": [
    {
     "data": {
      "image/png": "[encoded data removed]",
      "text/plain": [
       "<Figure size 1000x800 with 1 Axes>"
      ]
     },
     "metadata": {},
     "output_type": "display_data"
    },
    {
     "name": "stdout",
     "output_type": "stream",
     "text": [
      "Histogram data saved to signal_histogram.root\n"
     ]
    }
   ],
   "source": [
    "import uproot\n",
    "import numpy as np\n",
    "import matplotlib.pyplot as plt\n",
    "import hist\n",
    "\n",
    "# Define bins\n",
    "bins = np.linspace(0, 1, 31)\n",
    "\n",
    "# Calculate histograms for signal data with weights\n",
    "signal_hist_s, bin_edges = np.histogram(signal_preds[signal_true == 1], bins=bins, density=True, weights=weight_signal_tensor.numpy()[signal_true == 1])\n",
    "\n",
    "# Plot histograms for signal data\n",
    "plt.figure(figsize=(10, 8))\n",
    "plt.hist(signal_preds[signal_true == 1], bins=bins, color='blue', alpha=0.5, label='Signal', density=True, weights=weight_signal_tensor.numpy()[signal_true == 1])\n",
    "\n",
    "# Add background colors\n",
    "plt.axvspan(0, 0.5, color='red', alpha=0.1)\n",
    "plt.axvspan(0.5, 1, color='blue', alpha=0.1)\n",
    "\n",
    "plt.axvline(0.5, color='k', linestyle='--')\n",
    "plt.xlabel('Classifier output')\n",
    "plt.ylabel('Normalized Yields')\n",
    "plt.xlim(0, 1)\n",
    "plt.legend()\n",
    "plt.title('Classifier Output for Signal Data')\n",
    "\n",
    "# Save and display the plot\n",
    "plt.tight_layout()\n",
    "plt.show()\n",
    "\n",
    "# Save the histogram data to a ROOT file\n",
    "root_file_path = \"signal_histogram.root\"\n",
    "\n",
    "# Create the histogram object\n",
    "histogram = hist.Hist(\n",
    "    hist.axis.Regular(bins=len(bins) - 1, start=bins[0], stop=bins[-1], name=\"classifier_output\"),\n",
    "    storage=hist.storage.Weight()\n",
    ")\n",
    "\n",
    "# Fill the histogram with the signal data\n",
    "histogram.fill(classifier_output=signal_preds[signal_true == 1], weight=weight_signal_tensor.numpy()[signal_true == 1])\n",
    "\n",
    "# Save the histogram to a ROOT file\n",
    "with uproot.recreate(root_file_path) as f:\n",
    "    f[\"signal_hist\"] = histogram\n",
    "\n",
    "print(f\"Histogram data saved to {root_file_path}\")\n"
   ]
  },
  {
   "cell_type": "code",
   "execution_count": 15,
   "id": "53377560-ad64-47d5-b11d-7937c84fc4f4",
   "metadata": {},
   "outputs": [],
   "source": [
    "import uproot\n"
   ]
  },
  {
   "cell_type": "code",
   "execution_count": 16,
   "id": "4c854fb4-278f-49da-b54e-2d07cfb137f4",
   "metadata": {},
   "outputs": [],
   "source": [
    "file = uproot.open(\"../../outputfiles/hhbbgg_analyzer-histograms.root\")"
   ]
  },
  {
   "cell_type": "code",
   "execution_count": 20,
   "id": "8988ee88-e90b-4612-afb2-fb8e2d028303",
   "metadata": {},
   "outputs": [
    {
     "name": "stderr",
     "output_type": "stream",
     "text": [
      "/usr/local/lib/cppyy/__init__.py:72: SyntaxWarning: invalid escape sequence '\\d'\n",
      "  if re.match('^libcppyy_backend\\d+_\\d+$', lib_name):\n",
      "/usr/local/lib/cppyy/__init__.py:72: SyntaxWarning: invalid escape sequence '\\d'\n",
      "  if re.match('^libcppyy_backend\\d+_\\d+$', lib_name):\n"
     ]
    },
    {
     "ename": "ImportError",
     "evalue": "Failed to import libcppyy3_12. Please check that ROOT has been built for Python 3.12",
     "output_type": "error",
     "traceback": [
      "\u001b[0;31m---------------------------------------------------------------------------\u001b[0m",
      "\u001b[0;31mModuleNotFoundError\u001b[0m                       Traceback (most recent call last)",
      "File \u001b[0;32m/usr/local/lib/cppyy/__init__.py:60\u001b[0m\n\u001b[1;32m     59\u001b[0m \u001b[38;5;28;01mtry\u001b[39;00m:\n\u001b[0;32m---> 60\u001b[0m     \u001b[43mimportlib\u001b[49m\u001b[38;5;241;43m.\u001b[39;49m\u001b[43mimport_module\u001b[49m\u001b[43m(\u001b[49m\u001b[43mlibcppyy_mod_name\u001b[49m\u001b[43m)\u001b[49m\n\u001b[1;32m     61\u001b[0m \u001b[38;5;28;01mexcept\u001b[39;00m \u001b[38;5;167;01mImportError\u001b[39;00m:\n",
      "File \u001b[0;32m~/miniforge3/envs/hhbbgg-awk/lib/python3.12/importlib/__init__.py:90\u001b[0m, in \u001b[0;36mimport_module\u001b[0;34m(name, package)\u001b[0m\n\u001b[1;32m     89\u001b[0m         level \u001b[38;5;241m+\u001b[39m\u001b[38;5;241m=\u001b[39m \u001b[38;5;241m1\u001b[39m\n\u001b[0;32m---> 90\u001b[0m \u001b[38;5;28;01mreturn\u001b[39;00m \u001b[43m_bootstrap\u001b[49m\u001b[38;5;241;43m.\u001b[39;49m\u001b[43m_gcd_import\u001b[49m\u001b[43m(\u001b[49m\u001b[43mname\u001b[49m\u001b[43m[\u001b[49m\u001b[43mlevel\u001b[49m\u001b[43m:\u001b[49m\u001b[43m]\u001b[49m\u001b[43m,\u001b[49m\u001b[43m \u001b[49m\u001b[43mpackage\u001b[49m\u001b[43m,\u001b[49m\u001b[43m \u001b[49m\u001b[43mlevel\u001b[49m\u001b[43m)\u001b[49m\n",
      "File \u001b[0;32m<frozen importlib._bootstrap>:1387\u001b[0m, in \u001b[0;36m_gcd_import\u001b[0;34m(name, package, level)\u001b[0m\n",
      "File \u001b[0;32m<frozen importlib._bootstrap>:1360\u001b[0m, in \u001b[0;36m_find_and_load\u001b[0;34m(name, import_)\u001b[0m\n",
      "File \u001b[0;32m<frozen importlib._bootstrap>:1324\u001b[0m, in \u001b[0;36m_find_and_load_unlocked\u001b[0;34m(name, import_)\u001b[0m\n",
      "\u001b[0;31mModuleNotFoundError\u001b[0m: No module named 'libcppyy3_12'",
      "\nDuring handling of the above exception, another exception occurred:\n",
      "\u001b[0;31mImportError\u001b[0m                               Traceback (most recent call last)",
      "Cell \u001b[0;32mIn[20], line 4\u001b[0m\n\u001b[1;32m      2\u001b[0m \u001b[38;5;28;01mimport\u001b[39;00m \u001b[38;5;21;01mnumpy\u001b[39;00m \u001b[38;5;28;01mas\u001b[39;00m \u001b[38;5;21;01mnp\u001b[39;00m\n\u001b[1;32m      3\u001b[0m \u001b[38;5;28;01mimport\u001b[39;00m \u001b[38;5;21;01mmatplotlib\u001b[39;00m\u001b[38;5;21;01m.\u001b[39;00m\u001b[38;5;21;01mpyplot\u001b[39;00m \u001b[38;5;28;01mas\u001b[39;00m \u001b[38;5;21;01mplt\u001b[39;00m\n\u001b[0;32m----> 4\u001b[0m \u001b[38;5;28;01mimport\u001b[39;00m \u001b[38;5;21;01mROOT\u001b[39;00m\n\u001b[1;32m      6\u001b[0m \u001b[38;5;66;03m# Define bins\u001b[39;00m\n\u001b[1;32m      7\u001b[0m bins \u001b[38;5;241m=\u001b[39m np\u001b[38;5;241m.\u001b[39mlinspace(\u001b[38;5;241m0\u001b[39m, \u001b[38;5;241m1\u001b[39m, \u001b[38;5;241m31\u001b[39m)\n",
      "File \u001b[0;32m/usr/local/lib/ROOT/__init__.py:25\u001b[0m\n\u001b[1;32m     22\u001b[0m \u001b[38;5;66;03m# Do setup specific to AddressSanitizer environments\u001b[39;00m\n\u001b[1;32m     23\u001b[0m \u001b[38;5;28;01mfrom\u001b[39;00m \u001b[38;5;21;01m.\u001b[39;00m \u001b[38;5;28;01mimport\u001b[39;00m _asan\n\u001b[0;32m---> 25\u001b[0m \u001b[38;5;28;01mimport\u001b[39;00m \u001b[38;5;21;01mcppyy\u001b[39;00m\n\u001b[1;32m     27\u001b[0m \u001b[38;5;66;03m# import libROOTPythonizations with Python version number\u001b[39;00m\n\u001b[1;32m     28\u001b[0m \u001b[38;5;28;01mimport\u001b[39;00m \u001b[38;5;21;01msys\u001b[39;00m\u001b[38;5;241m,\u001b[39m \u001b[38;5;21;01mimportlib\u001b[39;00m\n",
      "File \u001b[0;32m/usr/local/lib/cppyy/__init__.py:62\u001b[0m\n\u001b[1;32m     60\u001b[0m     importlib\u001b[38;5;241m.\u001b[39mimport_module(libcppyy_mod_name)\n\u001b[1;32m     61\u001b[0m \u001b[38;5;28;01mexcept\u001b[39;00m \u001b[38;5;167;01mImportError\u001b[39;00m:\n\u001b[0;32m---> 62\u001b[0m     \u001b[38;5;28;01mraise\u001b[39;00m \u001b[38;5;167;01mImportError\u001b[39;00m(\n\u001b[1;32m     63\u001b[0m             \u001b[38;5;124m'\u001b[39m\u001b[38;5;124mFailed to import \u001b[39m\u001b[38;5;132;01m{}\u001b[39;00m\u001b[38;5;124m. Please check that ROOT has been built for Python \u001b[39m\u001b[38;5;132;01m{}\u001b[39;00m\u001b[38;5;124m.\u001b[39m\u001b[38;5;132;01m{}\u001b[39;00m\u001b[38;5;124m'\u001b[39m\u001b[38;5;241m.\u001b[39mformat(\n\u001b[1;32m     64\u001b[0m                 libcppyy_mod_name, major, minor))\n\u001b[1;32m     66\u001b[0m \u001b[38;5;66;03m# ensure 'import libcppyy' will find the versioned module\u001b[39;00m\n\u001b[1;32m     67\u001b[0m sys\u001b[38;5;241m.\u001b[39mmodules[\u001b[38;5;124m'\u001b[39m\u001b[38;5;124mlibcppyy\u001b[39m\u001b[38;5;124m'\u001b[39m] \u001b[38;5;241m=\u001b[39m sys\u001b[38;5;241m.\u001b[39mmodules[libcppyy_mod_name]\n",
      "\u001b[0;31mImportError\u001b[0m: Failed to import libcppyy3_12. Please check that ROOT has been built for Python 3.12"
     ]
    }
   ],
   "source": [
    "import uproot\n",
    "import numpy as np\n",
    "import matplotlib.pyplot as plt\n",
    "import ROOT\n",
    "\n",
    "# Define bins\n",
    "bins = np.linspace(0, 1, 31)\n",
    "\n",
    "# Calculate histograms for signal data with weights\n",
    "signal_hist_s, bin_edges = np.histogram(signal_preds[signal_true == 1], bins=bins, density=True, weights=weight_signal_tensor.numpy()[signal_true == 1])\n",
    "\n",
    "# Plot histograms for signal data\n",
    "plt.figure(figsize=(10, 8))\n",
    "plt.hist(signal_preds[signal_true == 1], bins=bins, color='blue', alpha=0.5, label='Signal', density=True, weights=weight_signal_tensor.numpy()[signal_true == 1])\n",
    "\n",
    "# Add background colors\n",
    "plt.axvspan(0, 0.5, color='red', alpha=0.1)\n",
    "plt.axvspan(0.5, 1, color='blue', alpha=0.1)\n",
    "\n",
    "plt.axvline(0.5, color='k', linestyle='--')\n",
    "plt.xlabel('Classifier output')\n",
    "plt.ylabel('Normalized Yields')\n",
    "plt.xlim(0, 1)\n",
    "plt.legend()\n",
    "plt.title('Classifier Output for Signal Data')\n",
    "\n",
    "# Save and display the plot\n",
    "plt.tight_layout()\n",
    "plt.show()\n",
    "\n",
    "# Create the TH1F histogram object using ROOT\n",
    "histogram_name = \"preselection-dnn_classifierScore\"\n",
    "histogram_title = \"DNN Classifier Score; Classifier Output; Normalized Yields\"\n",
    "num_bins = len(bins) - 1\n",
    "\n",
    "# Create ROOT histogram\n",
    "root_histogram = ROOT.TH1F(histogram_name, histogram_title, num_bins, bins[0], bins[-1])\n",
    "\n",
    "# Fill the ROOT histogram with the calculated histogram values\n",
    "for i in range(num_bins):\n",
    "    bin_center = (bins[i] + bins[i + 1]) / 2\n",
    "    bin_content = signal_hist_s[i]\n",
    "    root_histogram.Fill(bin_center, bin_content)\n",
    "\n",
    "# Save the histogram to the ROOT file\n",
    "root_file_path = \"../../outputfiles/hhbbgg_analyzer-histograms.root\"\n",
    "root_file = ROOT.TFile(root_file_path, \"UPDATE\")\n",
    "root_file.cd(\"GGJets\")\n",
    "root_histogram.Write()\n",
    "root_file.Close()\n",
    "\n",
    "print(f\"Histogram '{histogram_name}' saved to {root_file_path} in GGJets directory\")\n"
   ]
  },
  {
   "cell_type": "code",
   "execution_count": null,
   "id": "6c8493b4-f8a6-4784-9d22-d039ee1bb305",
   "metadata": {},
   "outputs": [],
   "source": []
  }
 ],
 "metadata": {
  "kernelspec": {
   "display_name": "Python [conda env:hhbbgg-awk] *",
   "language": "python",
   "name": "conda-env-hhbbgg-awk-py"
  },
  "language_info": {
   "codemirror_mode": {
    "name": "ipython",
    "version": 3
   },
   "file_extension": ".py",
   "mimetype": "text/x-python",
   "name": "python",
   "nbconvert_exporter": "python",
   "pygments_lexer": "ipython3",
   "version": "3.12.4"
  }
 },
 "nbformat": 4,
 "nbformat_minor": 5
}
