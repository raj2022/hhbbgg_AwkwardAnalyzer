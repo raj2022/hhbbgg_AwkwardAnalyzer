{
 "cells": [
  {
   "cell_type": "code",
   "execution_count": 2,
   "id": "b2717447",
   "metadata": {},
   "outputs": [
    {
     "ename": "ModuleNotFoundError",
     "evalue": "No module named 'matplotlib'",
     "output_type": "error",
     "traceback": [
      "\u001b[0;31m---------------------------------------------------------------------------\u001b[0m",
      "\u001b[0;31mModuleNotFoundError\u001b[0m                       Traceback (most recent call last)",
      "Cell \u001b[0;32mIn[2], line 1\u001b[0m\n\u001b[0;32m----> 1\u001b[0m \u001b[38;5;28;01mimport\u001b[39;00m \u001b[38;5;21;01mmatplotlib\u001b[39;00m\u001b[38;5;21;01m.\u001b[39;00m\u001b[38;5;21;01mpyplot\u001b[39;00m \u001b[38;5;28;01mas\u001b[39;00m \u001b[38;5;21;01mplt\u001b[39;00m\n\u001b[1;32m      2\u001b[0m \u001b[38;5;28;01mimport\u001b[39;00m \u001b[38;5;21;01mmplhep\u001b[39;00m \u001b[38;5;28;01mas\u001b[39;00m \u001b[38;5;21;01mhep\u001b[39;00m\n\u001b[1;32m      3\u001b[0m \u001b[38;5;28;01mimport\u001b[39;00m \u001b[38;5;21;01mawkward\u001b[39;00m \u001b[38;5;28;01mas\u001b[39;00m \u001b[38;5;21;01mak\u001b[39;00m\n",
      "\u001b[0;31mModuleNotFoundError\u001b[0m: No module named 'matplotlib'"
     ]
    }
   ],
   "source": [
    "import matplotlib.pyplot as plt\n",
    "import mplhep as hep\n",
    "import awkward as ak\n",
    "import numpy as np\n",
    "\n",
    "# Grid points\n",
    "mX = np.array([300, 400, 500, 550, 600, 650, 700])\n",
    "mY = np.array([60, 70, 80, 90, 95, 100])\n",
    "\n",
    "# Colors for each mY value\n",
    "colors = plt.cm.tab10(np.linspace(0, 1, len(mY)))  # Using a colormap for color mapping\n",
    "\n",
    "# Create a figure and axis\n",
    "fig, ax = plt.subplots(figsize=(8, 6))\n",
    "ax.grid(True)\n",
    "\n",
    "# Plot each line with different colors\n",
    "for i, y in enumerate(mY):\n",
    "    x_points = mX\n",
    "    y_points = np.full_like(mX, y)\n",
    "    ax.scatter(x_points, y_points, color=colors[i], label=str(y), marker='o')\n",
    "\n",
    "# Set axis labels and limits\n",
    "ax.set_xlabel(r\"$m_X$ (Spin-0) [GeV]\")\n",
    "ax.set_ylabel(r\"$m_Y$ [GeV]\")\n",
    "ax.set_ylim(50, 120)\n",
    "\n",
    "# Create and position the legend\n",
    "ax.legend(title=r\"$m_Y$ [GeV]\", bbox_to_anchor=(1.05, 1), loc='upper left')\n",
    "\n",
    "# Apply Hep style\n",
    "hep.style.use(hep.style.CMS)\n",
    "\n",
    "# Show plot\n",
    "plt.show()\n"
   ]
  },
  {
   "cell_type": "code",
   "execution_count": null,
   "id": "5f057d8e-44f1-4d85-8d65-35b1ff4c3d70",
   "metadata": {},
   "outputs": [],
   "source": []
  },
  {
   "cell_type": "code",
   "execution_count": null,
   "id": "de3cca75-b495-4847-a389-6d888c1b998a",
   "metadata": {},
   "outputs": [],
   "source": []
  }
 ],
 "metadata": {
  "kernelspec": {
   "display_name": "Python (ROOT)",
   "language": "python",
   "name": "root"
  },
  "language_info": {
   "codemirror_mode": {
    "name": "ipython",
    "version": 3
   },
   "file_extension": ".py",
   "mimetype": "text/x-python",
   "name": "python",
   "nbconvert_exporter": "python",
   "pygments_lexer": "ipython3",
   "version": "3.10.14"
  }
 },
 "nbformat": 4,
 "nbformat_minor": 5
}
