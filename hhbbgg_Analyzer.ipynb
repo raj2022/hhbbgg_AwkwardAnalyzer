{
 "cells": [
  {
   "cell_type": "code",
   "execution_count": 1,
   "metadata": {},
   "outputs": [
    {
     "name": "stdout",
     "output_type": "stream",
     "text": [
      "Welcome to JupyROOT 6.30/04\n"
     ]
    }
   ],
   "source": [
    "import os\n",
    "import uproot\n",
    "from ROOT import TFile\n",
    "import awkward as ak\n",
    "from config.utils import lVector"
   ]
  },
  {
   "cell_type": "code",
   "execution_count": 2,
   "metadata": {},
   "outputs": [],
   "source": [
    "def runOneFile(inputfile, outputfilesDir):\n",
    "   isdata=False\n",
    "   if \"Data\"  in inputfile.split(\"/\")[-1]:\n",
    "      isdata=True\n",
    "   print (\"Status of the isdata flag:\", isdata)\n",
    "   outputfile = outputfilesDir+\"/\"+inputfile.split(\"/\")[-1]\n",
    "   mycache = uproot.LRUArrayCache(\"500 MB\")\n",
    "\n",
    "   file_=uproot.open(inputfile)\n",
    "\n",
    "   print (\"root file opened: \", inputfile)\n",
    "   print(file_.keys())\n",
    "\n",
    "   fulltree_=ak.ArrayBuilder()\n",
    "   niterations=0\n",
    "   for tree_ in uproot.iterate(file_[\"DiphotonTree/data_125_13TeV_NOTAG\"], [\"run\", \"lumi\", \"event\", \"lead_pt\", \"lead_eta\", \"lead_phi\",\"sublead_pt\", \"sublead_eta\", \"sublead_phi\",\"weight\",\"weight_central\",], step_size=50000):\n",
    "      print (\"tree length for iteratiion \", len(tree_), (niterations))\n",
    "      niterations=niterations+1\n",
    "      cms_events = ak.zip({\"run\":tree_[\"run\"],\"lumi\":tree_[\"lumi\"],\"event\": tree_[\"event\"],\"lead_pt\":tree_[\"lead_pt\"], \"lead_eta\":tree_[\"lead_eta\"], \"lead_phi\":tree_[\"lead_phi\"], \"sublead_pt\":tree_[\"sublead_pt\"], \"sublead_eta\":tree_[\"sublead_eta\"], \"sublead_phi\":tree_[\"sublead_phi\"],\"weight_central\":tree_[\"weight_central\"],\"weight\":tree_[\"weight\"]},depth_limit=1)\n",
    "      out_events = ak.zip({\"run\":tree_[\"run\"],\"lumi\":tree_[\"lumi\"],\"event\": tree_[\"event\"]},depth_limit=1)\n",
    "\n",
    "      diJet_mass = lVector(cms_events[\"lead_pt\"], cms_events[\"lead_eta\"], cms_events[\"lead_phi\"],cms_events[\"sublead_pt\"],cms_events[\"sublead_eta\"],cms_events[\"sublead_phi\"])\n",
    "      cms_events[\"dijet_mass\"] = diJet_mass\n",
    "\n",
    "      from regions import get_mask_preselection\n",
    "      cms_events[\"mask_preselection\"]   = get_mask_preselection(cms_events)\n",
    "\n",
    "      out_events[\"dijet_mass\"] = cms_events[\"dijet_mass\"]\n",
    "      out_events[\"preselection\"] = cms_events[\"mask_preselection\"]\n",
    "      print('hello')\n",
    "      fulltree_=ak.concatenate([out_events,fulltree_],axis=0)\n",
    "\n",
    "   # from variables import vardict, regions\n",
    "   # from binning import binning\n",
    "   # print (\"NOW ENTERING THE HISTOGRAMMING\")\n",
    "   # f = TFile(outputfile,\"RECREATE\")\n",
    "   # for ireg in regions:\n",
    "   #    thisregion  = fulltree_[fulltree_[ireg]==True]\n",
    "   #    thisregion_ = thisregion[~(ak.is_none(thisregion))]\n",
    "   #    weight_ = \"weight_\"+ireg\n",
    "   #    for ivar in variables_common[ireg]:\n",
    "   #       hist_name_ = \"h_reg_\"+ireg+\"_\"+vardict[ivar]\n",
    "   #       h = VarToHist(thisregion_[ivar], thisregion_[weight_], hist_name_, binning[ireg][ivar])\n",
    "   #       f.cd()\n",
    "   #       h.Write()"
   ]
  },
  {
   "cell_type": "code",
   "execution_count": 3,
   "metadata": {},
   "outputs": [
    {
     "name": "stdout",
     "output_type": "stream",
     "text": [
      "Status of the isdata flag: True\n",
      "root file opened:  /Users/ptiwari/cmscern/eos/DoNotSync/hhtobbgg/HiggsDNA_root/v1/Run3_2022postEE_merged/Data_EraE.root\n",
      "['DiphotonTree;1', 'DiphotonTree/data_125_13TeV_NOTAG;1']\n",
      "tree length for iteratiion  47355 0\n"
     ]
    },
    {
     "ename": "TypeError",
     "evalue": "ones_like() got an unexpected keyword argument 'shape'\n\nThis error occurred while calling\n\n    ak.ones_like(\n        <Array [167, 93.3, 99.5, ..., 115, 103, 133] type='47355 * float64'>\n        shape = 47355\n        dtype = type-instance\n    )",
     "output_type": "error",
     "traceback": [
      "\u001b[0;31m---------------------------------------------------------------------------\u001b[0m",
      "\u001b[0;31mTypeError\u001b[0m                                 Traceback (most recent call last)",
      "File \u001b[0;32m/opt/homebrew/Caskroom/miniforge/base/lib/python3.10/site-packages/awkward/_dispatch.py:39\u001b[0m, in \u001b[0;36mnamed_high_level_function.<locals>.dispatch\u001b[0;34m(*args, **kwargs)\u001b[0m\n\u001b[1;32m     38\u001b[0m \u001b[38;5;28;01mwith\u001b[39;00m OperationErrorContext(name, args, kwargs):\n\u001b[0;32m---> 39\u001b[0m     gen_or_result \u001b[38;5;241m=\u001b[39m \u001b[43mfunc\u001b[49m\u001b[43m(\u001b[49m\u001b[38;5;241;43m*\u001b[39;49m\u001b[43margs\u001b[49m\u001b[43m,\u001b[49m\u001b[43m \u001b[49m\u001b[38;5;241;43m*\u001b[39;49m\u001b[38;5;241;43m*\u001b[39;49m\u001b[43mkwargs\u001b[49m\u001b[43m)\u001b[49m\n\u001b[1;32m     40\u001b[0m     \u001b[38;5;28;01mif\u001b[39;00m isgenerator(gen_or_result):\n",
      "\u001b[0;31mTypeError\u001b[0m: ones_like() got an unexpected keyword argument 'shape'",
      "\nThe above exception was the direct cause of the following exception:\n",
      "\u001b[0;31mTypeError\u001b[0m                                 Traceback (most recent call last)",
      "Cell \u001b[0;32mIn[3], line 13\u001b[0m\n\u001b[1;32m     11\u001b[0m    runOneFile(inputfiles[\u001b[38;5;241m0\u001b[39m], output_dir)\n\u001b[1;32m     12\u001b[0m \u001b[38;5;28;01mif\u001b[39;00m \u001b[38;5;18m__name__\u001b[39m \u001b[38;5;241m==\u001b[39m \u001b[38;5;124m\"\u001b[39m\u001b[38;5;124m__main__\u001b[39m\u001b[38;5;124m\"\u001b[39m:\n\u001b[0;32m---> 13\u001b[0m    \u001b[43mmain\u001b[49m\u001b[43m(\u001b[49m\u001b[43m)\u001b[49m\n",
      "Cell \u001b[0;32mIn[3], line 11\u001b[0m, in \u001b[0;36mmain\u001b[0;34m()\u001b[0m\n\u001b[1;32m      8\u001b[0m \u001b[38;5;28;01mdef\u001b[39;00m \u001b[38;5;21mmain\u001b[39m():\n\u001b[1;32m      9\u001b[0m    \u001b[38;5;66;03m# for infile_ in inputfiles:\u001b[39;00m\n\u001b[1;32m     10\u001b[0m    \u001b[38;5;66;03m#    runOneFile(infile_, output_dir)\u001b[39;00m\n\u001b[0;32m---> 11\u001b[0m    \u001b[43mrunOneFile\u001b[49m\u001b[43m(\u001b[49m\u001b[43minputfiles\u001b[49m\u001b[43m[\u001b[49m\u001b[38;5;241;43m0\u001b[39;49m\u001b[43m]\u001b[49m\u001b[43m,\u001b[49m\u001b[43m \u001b[49m\u001b[43moutput_dir\u001b[49m\u001b[43m)\u001b[49m\n",
      "Cell \u001b[0;32mIn[2], line 26\u001b[0m, in \u001b[0;36mrunOneFile\u001b[0;34m(inputfile, outputfilesDir)\u001b[0m\n\u001b[1;32m     23\u001b[0m cms_events[\u001b[38;5;124m\"\u001b[39m\u001b[38;5;124mdijet_mass\u001b[39m\u001b[38;5;124m\"\u001b[39m] \u001b[38;5;241m=\u001b[39m diJet_mass\n\u001b[1;32m     25\u001b[0m \u001b[38;5;28;01mfrom\u001b[39;00m \u001b[38;5;21;01mregions\u001b[39;00m \u001b[38;5;28;01mimport\u001b[39;00m get_mask_preselection\n\u001b[0;32m---> 26\u001b[0m cms_events[\u001b[38;5;124m\"\u001b[39m\u001b[38;5;124mmask_preselection\u001b[39m\u001b[38;5;124m\"\u001b[39m]   \u001b[38;5;241m=\u001b[39m \u001b[43mget_mask_preselection\u001b[49m\u001b[43m(\u001b[49m\u001b[43mcms_events\u001b[49m\u001b[43m)\u001b[49m\n\u001b[1;32m     28\u001b[0m out_events[\u001b[38;5;124m\"\u001b[39m\u001b[38;5;124mdijet_mass\u001b[39m\u001b[38;5;124m\"\u001b[39m] \u001b[38;5;241m=\u001b[39m cms_events[\u001b[38;5;124m\"\u001b[39m\u001b[38;5;124mdijet_mass\u001b[39m\u001b[38;5;124m\"\u001b[39m]\n\u001b[1;32m     29\u001b[0m out_events[\u001b[38;5;124m\"\u001b[39m\u001b[38;5;124mpreselection\u001b[39m\u001b[38;5;124m\"\u001b[39m] \u001b[38;5;241m=\u001b[39m cms_events[\u001b[38;5;124m\"\u001b[39m\u001b[38;5;124mmask_preselection\u001b[39m\u001b[38;5;124m\"\u001b[39m]\n",
      "File \u001b[0;32m~/Development/hepProjects/hhbbgg_AwkwardAnalyzer/regions.py:28\u001b[0m, in \u001b[0;36mget_mask_preselection\u001b[0;34m(cms_events)\u001b[0m\n\u001b[1;32m     26\u001b[0m \u001b[38;5;28;01mdef\u001b[39;00m \u001b[38;5;21mget_mask_preselection\u001b[39m(cms_events):\n\u001b[1;32m     27\u001b[0m     num_events \u001b[38;5;241m=\u001b[39m \u001b[38;5;28mlen\u001b[39m(cms_events)\n\u001b[0;32m---> 28\u001b[0m     mask_preselection \u001b[38;5;241m=\u001b[39m \u001b[43mak\u001b[49m\u001b[38;5;241;43m.\u001b[39;49m\u001b[43mones_like\u001b[49m\u001b[43m(\u001b[49m\u001b[43mcms_events\u001b[49m\u001b[43m[\u001b[49m\u001b[38;5;124;43m\"\u001b[39;49m\u001b[38;5;124;43mdijet_mass\u001b[39;49m\u001b[38;5;124;43m\"\u001b[39;49m\u001b[43m]\u001b[49m\u001b[43m,\u001b[49m\u001b[43m \u001b[49m\u001b[43mshape\u001b[49m\u001b[38;5;241;43m=\u001b[39;49m\u001b[43mnum_events\u001b[49m\u001b[43m,\u001b[49m\u001b[43m \u001b[49m\u001b[43mdtype\u001b[49m\u001b[38;5;241;43m=\u001b[39;49m\u001b[38;5;28;43mbool\u001b[39;49m\u001b[43m)\u001b[49m\n\u001b[1;32m     29\u001b[0m     \u001b[38;5;28;01mreturn\u001b[39;00m mask_preselection\n",
      "File \u001b[0;32m/opt/homebrew/Caskroom/miniforge/base/lib/python3.10/site-packages/awkward/_dispatch.py:38\u001b[0m, in \u001b[0;36mnamed_high_level_function.<locals>.dispatch\u001b[0;34m(*args, **kwargs)\u001b[0m\n\u001b[1;32m     35\u001b[0m \u001b[38;5;129m@wraps\u001b[39m(func)\n\u001b[1;32m     36\u001b[0m \u001b[38;5;28;01mdef\u001b[39;00m \u001b[38;5;21mdispatch\u001b[39m(\u001b[38;5;241m*\u001b[39margs, \u001b[38;5;241m*\u001b[39m\u001b[38;5;241m*\u001b[39mkwargs):\n\u001b[1;32m     37\u001b[0m     \u001b[38;5;66;03m# NOTE: this decorator assumes that the operation is exposed under `ak.`\u001b[39;00m\n\u001b[0;32m---> 38\u001b[0m     \u001b[38;5;28;01mwith\u001b[39;00m OperationErrorContext(name, args, kwargs):\n\u001b[1;32m     39\u001b[0m         gen_or_result \u001b[38;5;241m=\u001b[39m func(\u001b[38;5;241m*\u001b[39margs, \u001b[38;5;241m*\u001b[39m\u001b[38;5;241m*\u001b[39mkwargs)\n\u001b[1;32m     40\u001b[0m         \u001b[38;5;28;01mif\u001b[39;00m isgenerator(gen_or_result):\n",
      "File \u001b[0;32m/opt/homebrew/Caskroom/miniforge/base/lib/python3.10/site-packages/awkward/_errors.py:85\u001b[0m, in \u001b[0;36mErrorContext.__exit__\u001b[0;34m(self, exception_type, exception_value, traceback)\u001b[0m\n\u001b[1;32m     78\u001b[0m \u001b[38;5;28;01mtry\u001b[39;00m:\n\u001b[1;32m     79\u001b[0m     \u001b[38;5;66;03m# Handle caught exception\u001b[39;00m\n\u001b[1;32m     80\u001b[0m     \u001b[38;5;28;01mif\u001b[39;00m (\n\u001b[1;32m     81\u001b[0m         exception_type \u001b[38;5;129;01mis\u001b[39;00m \u001b[38;5;129;01mnot\u001b[39;00m \u001b[38;5;28;01mNone\u001b[39;00m\n\u001b[1;32m     82\u001b[0m         \u001b[38;5;129;01mand\u001b[39;00m \u001b[38;5;28missubclass\u001b[39m(exception_type, \u001b[38;5;167;01mException\u001b[39;00m)\n\u001b[1;32m     83\u001b[0m         \u001b[38;5;129;01mand\u001b[39;00m \u001b[38;5;28mself\u001b[39m\u001b[38;5;241m.\u001b[39mprimary() \u001b[38;5;129;01mis\u001b[39;00m \u001b[38;5;28mself\u001b[39m\n\u001b[1;32m     84\u001b[0m     ):\n\u001b[0;32m---> 85\u001b[0m         \u001b[38;5;28;43mself\u001b[39;49m\u001b[38;5;241;43m.\u001b[39;49m\u001b[43mhandle_exception\u001b[49m\u001b[43m(\u001b[49m\u001b[43mexception_type\u001b[49m\u001b[43m,\u001b[49m\u001b[43m \u001b[49m\u001b[43mexception_value\u001b[49m\u001b[43m)\u001b[49m\n\u001b[1;32m     86\u001b[0m \u001b[38;5;28;01mfinally\u001b[39;00m:\n\u001b[1;32m     87\u001b[0m     \u001b[38;5;66;03m# Step out of the way so that another ErrorContext can become primary.\u001b[39;00m\n\u001b[1;32m     88\u001b[0m     \u001b[38;5;28;01mif\u001b[39;00m \u001b[38;5;28mself\u001b[39m\u001b[38;5;241m.\u001b[39mprimary() \u001b[38;5;129;01mis\u001b[39;00m \u001b[38;5;28mself\u001b[39m:\n",
      "File \u001b[0;32m/opt/homebrew/Caskroom/miniforge/base/lib/python3.10/site-packages/awkward/_errors.py:95\u001b[0m, in \u001b[0;36mErrorContext.handle_exception\u001b[0;34m(self, cls, exception)\u001b[0m\n\u001b[1;32m     93\u001b[0m     \u001b[38;5;28mself\u001b[39m\u001b[38;5;241m.\u001b[39mdecorate_exception(\u001b[38;5;28mcls\u001b[39m, exception)\n\u001b[1;32m     94\u001b[0m \u001b[38;5;28;01melse\u001b[39;00m:\n\u001b[0;32m---> 95\u001b[0m     \u001b[38;5;28;01mraise\u001b[39;00m \u001b[38;5;28mself\u001b[39m\u001b[38;5;241m.\u001b[39mdecorate_exception(\u001b[38;5;28mcls\u001b[39m, exception)\n",
      "\u001b[0;31mTypeError\u001b[0m: ones_like() got an unexpected keyword argument 'shape'\n\nThis error occurred while calling\n\n    ak.ones_like(\n        <Array [167, 93.3, 99.5, ..., 115, 103, 133] type='47355 * float64'>\n        shape = 47355\n        dtype = type-instance\n    )"
     ]
    }
   ],
   "source": [
    "inputfilesDir = '/Users/ptiwari/cmscern/eos/DoNotSync/hhtobbgg/HiggsDNA_root/v1/Run3_2022postEE_merged'\n",
    "output_dir = \"outputfiles\"\n",
    "if not os.path.exists(output_dir):\n",
    "   os.makedirs(output_dir)\n",
    "\n",
    "inputfiles = [f\"{inputfilesDir}/{infile_}\" for infile_ in os.listdir(inputfilesDir) if infile_.endswith('.root')]\n",
    "\n",
    "def main():\n",
    "   # for infile_ in inputfiles:\n",
    "   #    runOneFile(infile_, output_dir)\n",
    "   runOneFile(inputfiles[0], output_dir)\n",
    "if __name__ == \"__main__\":\n",
    "   main()"
   ]
  },
  {
   "cell_type": "code",
   "execution_count": null,
   "metadata": {},
   "outputs": [],
   "source": []
  }
 ],
 "metadata": {
  "kernelspec": {
   "display_name": "base",
   "language": "python",
   "name": "python3"
  },
  "language_info": {
   "codemirror_mode": {
    "name": "ipython",
    "version": 3
   },
   "file_extension": ".py",
   "mimetype": "text/x-python",
   "name": "python",
   "nbconvert_exporter": "python",
   "pygments_lexer": "ipython3",
   "version": "3.10.14"
  }
 },
 "nbformat": 4,
 "nbformat_minor": 2
}
